{
 "cells": [
  {
   "cell_type": "markdown",
   "metadata": {},
   "source": [
    "<font color=\"blue\" size=\"20\"><b>Crop Yield Prediction Model</b></font>"
   ]
  },
  {
   "cell_type": "markdown",
   "metadata": {},
   "source": [
    "## 1. Importing necessary python libraries\n",
    "***\n",
    "This is where we import all the necessary python libraries that will enable us carry out all the operations/manipulation needed for processing our data like reading our data,visualization,modelling e.t.c\n",
    "***"
   ]
  },
  {
   "cell_type": "code",
   "execution_count": 1,
   "metadata": {},
   "outputs": [],
   "source": [
    "import numpy as np # for linear algebra and manipulating arrays\n",
    "import pandas as pd # for data processing, readding dataset (e.g. pd.read_csv)\n",
    "import matplotlib.pyplot as plt # for visualisation of barplot, boxplots etc.\n",
    "%matplotlib inline\n",
    "import seaborn as sns # for plotting diagrams and heatmaps"
   ]
  },
  {
   "cell_type": "code",
   "execution_count": 2,
   "metadata": {},
   "outputs": [
    {
     "data": {
      "text/html": [
       "<div>\n",
       "<style scoped>\n",
       "    .dataframe tbody tr th:only-of-type {\n",
       "        vertical-align: middle;\n",
       "    }\n",
       "\n",
       "    .dataframe tbody tr th {\n",
       "        vertical-align: top;\n",
       "    }\n",
       "\n",
       "    .dataframe thead th {\n",
       "        text-align: right;\n",
       "    }\n",
       "</style>\n",
       "<table border=\"1\" class=\"dataframe\">\n",
       "  <thead>\n",
       "    <tr style=\"text-align: right;\">\n",
       "      <th></th>\n",
       "      <th>Nitrogen</th>\n",
       "      <th>Phosphorus</th>\n",
       "      <th>Potassium</th>\n",
       "      <th>Temperature</th>\n",
       "      <th>Humidity</th>\n",
       "      <th>pH</th>\n",
       "      <th>Rainfall</th>\n",
       "      <th>Label</th>\n",
       "    </tr>\n",
       "  </thead>\n",
       "  <tbody>\n",
       "    <tr>\n",
       "      <th>0</th>\n",
       "      <td>90</td>\n",
       "      <td>42</td>\n",
       "      <td>43</td>\n",
       "      <td>20.879744</td>\n",
       "      <td>82.002744</td>\n",
       "      <td>6.502985</td>\n",
       "      <td>202.935536</td>\n",
       "      <td>rice</td>\n",
       "    </tr>\n",
       "    <tr>\n",
       "      <th>1</th>\n",
       "      <td>85</td>\n",
       "      <td>58</td>\n",
       "      <td>41</td>\n",
       "      <td>21.770462</td>\n",
       "      <td>80.319644</td>\n",
       "      <td>7.038096</td>\n",
       "      <td>226.655537</td>\n",
       "      <td>rice</td>\n",
       "    </tr>\n",
       "    <tr>\n",
       "      <th>2</th>\n",
       "      <td>60</td>\n",
       "      <td>55</td>\n",
       "      <td>44</td>\n",
       "      <td>23.004459</td>\n",
       "      <td>82.320763</td>\n",
       "      <td>7.840207</td>\n",
       "      <td>263.964248</td>\n",
       "      <td>rice</td>\n",
       "    </tr>\n",
       "    <tr>\n",
       "      <th>3</th>\n",
       "      <td>74</td>\n",
       "      <td>35</td>\n",
       "      <td>40</td>\n",
       "      <td>26.491096</td>\n",
       "      <td>80.158363</td>\n",
       "      <td>6.980401</td>\n",
       "      <td>242.864034</td>\n",
       "      <td>rice</td>\n",
       "    </tr>\n",
       "    <tr>\n",
       "      <th>4</th>\n",
       "      <td>78</td>\n",
       "      <td>42</td>\n",
       "      <td>42</td>\n",
       "      <td>20.130175</td>\n",
       "      <td>81.604873</td>\n",
       "      <td>7.628473</td>\n",
       "      <td>262.717340</td>\n",
       "      <td>rice</td>\n",
       "    </tr>\n",
       "    <tr>\n",
       "      <th>5</th>\n",
       "      <td>69</td>\n",
       "      <td>37</td>\n",
       "      <td>42</td>\n",
       "      <td>23.058049</td>\n",
       "      <td>83.370118</td>\n",
       "      <td>7.073454</td>\n",
       "      <td>251.055000</td>\n",
       "      <td>rice</td>\n",
       "    </tr>\n",
       "    <tr>\n",
       "      <th>6</th>\n",
       "      <td>69</td>\n",
       "      <td>55</td>\n",
       "      <td>38</td>\n",
       "      <td>22.708838</td>\n",
       "      <td>82.639414</td>\n",
       "      <td>5.700806</td>\n",
       "      <td>271.324860</td>\n",
       "      <td>rice</td>\n",
       "    </tr>\n",
       "    <tr>\n",
       "      <th>7</th>\n",
       "      <td>94</td>\n",
       "      <td>53</td>\n",
       "      <td>40</td>\n",
       "      <td>20.277744</td>\n",
       "      <td>82.894086</td>\n",
       "      <td>5.718627</td>\n",
       "      <td>241.974195</td>\n",
       "      <td>rice</td>\n",
       "    </tr>\n",
       "    <tr>\n",
       "      <th>8</th>\n",
       "      <td>89</td>\n",
       "      <td>54</td>\n",
       "      <td>38</td>\n",
       "      <td>24.515881</td>\n",
       "      <td>83.535216</td>\n",
       "      <td>6.685346</td>\n",
       "      <td>230.446236</td>\n",
       "      <td>rice</td>\n",
       "    </tr>\n",
       "    <tr>\n",
       "      <th>9</th>\n",
       "      <td>68</td>\n",
       "      <td>58</td>\n",
       "      <td>38</td>\n",
       "      <td>23.223974</td>\n",
       "      <td>83.033227</td>\n",
       "      <td>6.336254</td>\n",
       "      <td>221.209196</td>\n",
       "      <td>rice</td>\n",
       "    </tr>\n",
       "  </tbody>\n",
       "</table>\n",
       "</div>"
      ],
      "text/plain": [
       "   Nitrogen  Phosphorus  Potassium  Temperature   Humidity        pH  \\\n",
       "0        90          42         43    20.879744  82.002744  6.502985   \n",
       "1        85          58         41    21.770462  80.319644  7.038096   \n",
       "2        60          55         44    23.004459  82.320763  7.840207   \n",
       "3        74          35         40    26.491096  80.158363  6.980401   \n",
       "4        78          42         42    20.130175  81.604873  7.628473   \n",
       "5        69          37         42    23.058049  83.370118  7.073454   \n",
       "6        69          55         38    22.708838  82.639414  5.700806   \n",
       "7        94          53         40    20.277744  82.894086  5.718627   \n",
       "8        89          54         38    24.515881  83.535216  6.685346   \n",
       "9        68          58         38    23.223974  83.033227  6.336254   \n",
       "\n",
       "     Rainfall Label  \n",
       "0  202.935536  rice  \n",
       "1  226.655537  rice  \n",
       "2  263.964248  rice  \n",
       "3  242.864034  rice  \n",
       "4  262.717340  rice  \n",
       "5  251.055000  rice  \n",
       "6  271.324860  rice  \n",
       "7  241.974195  rice  \n",
       "8  230.446236  rice  \n",
       "9  221.209196  rice  "
      ]
     },
     "execution_count": 2,
     "metadata": {},
     "output_type": "execute_result"
    }
   ],
   "source": [
    "data = pd.read_csv('Data.csv') # the pandas library is used to read or import the dataset into jupyter notebook environment\n",
    "\n",
    "data.head(10)  # this line of code will print the first 10 rows on the dataset"
   ]
  },
  {
   "cell_type": "markdown",
   "metadata": {},
   "source": [
    "## 2. Data Analysis "
   ]
  },
  {
   "cell_type": "code",
   "execution_count": 3,
   "metadata": {},
   "outputs": [
    {
     "data": {
      "text/plain": [
       "(2307, 8)"
      ]
     },
     "execution_count": 3,
     "metadata": {},
     "output_type": "execute_result"
    }
   ],
   "source": [
    "data.shape # this line of code with print the (number of rows, number of columns) in the dataset"
   ]
  },
  {
   "cell_type": "code",
   "execution_count": 4,
   "metadata": {},
   "outputs": [
    {
     "name": "stdout",
     "output_type": "stream",
     "text": [
      "{'watermelon', 'kidneybeans', 'coffee', 'coconut', 'mungbean', 'mango', 'cotton', 'orange', 'muskmelon', 'maize', 'mothbeans', 'black beans', 'cashew', 'chickpea', 'beni/sesame seed', 'grapes', 'jute/ewedu', 'palm tree', 'pigeonpeas', 'rice', 'cassava/yam', 'banana', 'potato', 'papaya'}\n"
     ]
    }
   ],
   "source": [
    "print(set(data['Label'])) # this line of code puts all the different labels in a set, there are about 24 different crops"
   ]
  },
  {
   "cell_type": "code",
   "execution_count": 5,
   "metadata": {},
   "outputs": [
    {
     "data": {
      "text/plain": [
       "array(['rice', 'maize', 'chickpea', 'kidneybeans', 'pigeonpeas',\n",
       "       'mothbeans', 'mungbean', 'black beans', 'beni/sesame seed',\n",
       "       'cashew', 'banana', 'mango', 'grapes', 'watermelon', 'muskmelon',\n",
       "       'palm tree', 'orange', 'papaya', 'coconut', 'cotton', 'jute/ewedu',\n",
       "       'coffee', 'potato', 'cassava/yam'], dtype=object)"
      ]
     },
     "execution_count": 5,
     "metadata": {},
     "output_type": "execute_result"
    }
   ],
   "source": [
    "data['Label'].unique() # this line of code prints all the different crops in a list"
   ]
  },
  {
   "cell_type": "markdown",
   "metadata": {},
   "source": [
    "### Data cleaning\n",
    "***\n",
    "The first step to cleaning the data is to check for missing values, because we cannot train a model on a data that contains missing values.\n",
    "***"
   ]
  },
  {
   "cell_type": "code",
   "execution_count": 6,
   "metadata": {},
   "outputs": [
    {
     "data": {
      "text/plain": [
       "Nitrogen       0\n",
       "Phosphorus     0\n",
       "Potassium      0\n",
       "Temperature    0\n",
       "Humidity       0\n",
       "pH             0\n",
       "Rainfall       0\n",
       "Label          0\n",
       "dtype: int64"
      ]
     },
     "execution_count": 6,
     "metadata": {},
     "output_type": "execute_result"
    }
   ],
   "source": [
    "data.isnull().sum() # this line of code sums up the number of missing values in each column. In this case it returns zero for \n",
    "                    # all the columns because the data does not have any missing values."
   ]
  },
  {
   "cell_type": "code",
   "execution_count": 7,
   "metadata": {},
   "outputs": [
    {
     "data": {
      "text/html": [
       "<div>\n",
       "<style scoped>\n",
       "    .dataframe tbody tr th:only-of-type {\n",
       "        vertical-align: middle;\n",
       "    }\n",
       "\n",
       "    .dataframe tbody tr th {\n",
       "        vertical-align: top;\n",
       "    }\n",
       "\n",
       "    .dataframe thead th {\n",
       "        text-align: right;\n",
       "    }\n",
       "</style>\n",
       "<table border=\"1\" class=\"dataframe\">\n",
       "  <thead>\n",
       "    <tr style=\"text-align: right;\">\n",
       "      <th></th>\n",
       "      <th>Nitrogen</th>\n",
       "      <th>Phosphorus</th>\n",
       "      <th>Potassium</th>\n",
       "      <th>Temperature</th>\n",
       "      <th>Humidity</th>\n",
       "      <th>pH</th>\n",
       "      <th>Rainfall</th>\n",
       "    </tr>\n",
       "  </thead>\n",
       "  <tbody>\n",
       "    <tr>\n",
       "      <th>count</th>\n",
       "      <td>2307.000000</td>\n",
       "      <td>2307.000000</td>\n",
       "      <td>2307.000000</td>\n",
       "      <td>2307.000000</td>\n",
       "      <td>2307.000000</td>\n",
       "      <td>2307.000000</td>\n",
       "      <td>2307.000000</td>\n",
       "    </tr>\n",
       "    <tr>\n",
       "      <th>mean</th>\n",
       "      <td>53.137841</td>\n",
       "      <td>52.948418</td>\n",
       "      <td>52.624187</td>\n",
       "      <td>25.554942</td>\n",
       "      <td>69.095630</td>\n",
       "      <td>6.477948</td>\n",
       "      <td>102.588546</td>\n",
       "    </tr>\n",
       "    <tr>\n",
       "      <th>std</th>\n",
       "      <td>39.072476</td>\n",
       "      <td>32.521784</td>\n",
       "      <td>54.920992</td>\n",
       "      <td>4.997793</td>\n",
       "      <td>24.427662</td>\n",
       "      <td>1.830180</td>\n",
       "      <td>54.045574</td>\n",
       "    </tr>\n",
       "    <tr>\n",
       "      <th>min</th>\n",
       "      <td>0.000000</td>\n",
       "      <td>5.000000</td>\n",
       "      <td>5.000000</td>\n",
       "      <td>8.825675</td>\n",
       "      <td>14.258040</td>\n",
       "      <td>3.504752</td>\n",
       "      <td>20.211267</td>\n",
       "    </tr>\n",
       "    <tr>\n",
       "      <th>25%</th>\n",
       "      <td>22.000000</td>\n",
       "      <td>28.000000</td>\n",
       "      <td>21.000000</td>\n",
       "      <td>22.747679</td>\n",
       "      <td>56.319725</td>\n",
       "      <td>5.935545</td>\n",
       "      <td>65.533776</td>\n",
       "    </tr>\n",
       "    <tr>\n",
       "      <th>50%</th>\n",
       "      <td>38.000000</td>\n",
       "      <td>51.000000</td>\n",
       "      <td>34.000000</td>\n",
       "      <td>25.530827</td>\n",
       "      <td>79.787252</td>\n",
       "      <td>6.405054</td>\n",
       "      <td>92.372389</td>\n",
       "    </tr>\n",
       "    <tr>\n",
       "      <th>75%</th>\n",
       "      <td>87.000000</td>\n",
       "      <td>68.000000</td>\n",
       "      <td>51.000000</td>\n",
       "      <td>28.436100</td>\n",
       "      <td>89.388297</td>\n",
       "      <td>6.901376</td>\n",
       "      <td>121.561271</td>\n",
       "    </tr>\n",
       "    <tr>\n",
       "      <th>max</th>\n",
       "      <td>179.000000</td>\n",
       "      <td>145.000000</td>\n",
       "      <td>250.000000</td>\n",
       "      <td>43.675493</td>\n",
       "      <td>99.981876</td>\n",
       "      <td>86.000000</td>\n",
       "      <td>298.560117</td>\n",
       "    </tr>\n",
       "  </tbody>\n",
       "</table>\n",
       "</div>"
      ],
      "text/plain": [
       "          Nitrogen   Phosphorus    Potassium  Temperature     Humidity  \\\n",
       "count  2307.000000  2307.000000  2307.000000  2307.000000  2307.000000   \n",
       "mean     53.137841    52.948418    52.624187    25.554942    69.095630   \n",
       "std      39.072476    32.521784    54.920992     4.997793    24.427662   \n",
       "min       0.000000     5.000000     5.000000     8.825675    14.258040   \n",
       "25%      22.000000    28.000000    21.000000    22.747679    56.319725   \n",
       "50%      38.000000    51.000000    34.000000    25.530827    79.787252   \n",
       "75%      87.000000    68.000000    51.000000    28.436100    89.388297   \n",
       "max     179.000000   145.000000   250.000000    43.675493    99.981876   \n",
       "\n",
       "                pH     Rainfall  \n",
       "count  2307.000000  2307.000000  \n",
       "mean      6.477948   102.588546  \n",
       "std       1.830180    54.045574  \n",
       "min       3.504752    20.211267  \n",
       "25%       5.935545    65.533776  \n",
       "50%       6.405054    92.372389  \n",
       "75%       6.901376   121.561271  \n",
       "max      86.000000   298.560117  "
      ]
     },
     "execution_count": 7,
     "metadata": {},
     "output_type": "execute_result"
    }
   ],
   "source": [
    "data.describe() # this line of code summarizes the dataset for us."
   ]
  },
  {
   "cell_type": "markdown",
   "metadata": {},
   "source": [
    "## 3. Data Visualization and EDA\n",
    "***\n",
    "Here we make use of plots and diagrams to see the relationship between the various features in the dataset.\n",
    "***\n",
    "Firstly, we will check the number of times each crop in the 'Label' column is present. It is import that all the crops are present equally to prevent the model from making biased predictionis, thereby favoring one class."
   ]
  },
  {
   "cell_type": "code",
   "execution_count": 8,
   "metadata": {},
   "outputs": [
    {
     "data": {
      "text/plain": [
       "<Figure size 600x1200 with 0 Axes>"
      ]
     },
     "execution_count": 8,
     "metadata": {},
     "output_type": "execute_result"
    },
    {
     "data": {
      "image/png": "[encoded data removed]",
      "text/plain": [
       "<Figure size 1500x500 with 1 Axes>"
      ]
     },
     "metadata": {},
     "output_type": "display_data"
    },
    {
     "data": {
      "text/plain": [
       "<Figure size 600x1200 with 0 Axes>"
      ]
     },
     "metadata": {},
     "output_type": "display_data"
    }
   ],
   "source": [
    "sns.catplot(data=data,x=\"Label\",aspect=3,kind='count')\n",
    "plt.figure(figsize = (6,12))"
   ]
  },
  {
   "cell_type": "markdown",
   "metadata": {},
   "source": [
    "***\n",
    "We see that all the crops are equally present except  <b>'casssava/yam'</b>  which appears to be very small and this makes it insignificant.\n",
    "***"
   ]
  },
  {
   "cell_type": "code",
   "execution_count": 9,
   "metadata": {},
   "outputs": [
    {
     "data": {
      "text/plain": [
       "rice                100\n",
       "maize               100\n",
       "potato              100\n",
       "coffee              100\n",
       "jute/ewedu          100\n",
       "cotton              100\n",
       "coconut             100\n",
       "papaya              100\n",
       "orange              100\n",
       "palm tree           100\n",
       "muskmelon           100\n",
       "watermelon          100\n",
       "grapes              100\n",
       "mango               100\n",
       "banana              100\n",
       "cashew              100\n",
       "beni/sesame seed    100\n",
       "black beans         100\n",
       "mungbean            100\n",
       "mothbeans           100\n",
       "pigeonpeas          100\n",
       "kidneybeans         100\n",
       "chickpea            100\n",
       "cassava/yam           7\n",
       "Name: Label, dtype: int64"
      ]
     },
     "execution_count": 9,
     "metadata": {},
     "output_type": "execute_result"
    }
   ],
   "source": [
    "data['Label'].value_counts()"
   ]
  },
  {
   "cell_type": "markdown",
   "metadata": {},
   "source": [
    "***\n",
    "We need to drop all records with label  <b>'cassava/yam'</b>  because it has the least number of currence and may serve as outliers\n",
    "***"
   ]
  },
  {
   "cell_type": "code",
   "execution_count": 10,
   "metadata": {},
   "outputs": [],
   "source": [
    "data = data.loc[~(data['Label'] == 'cassava/yam'),:] # this line of code will filter the dataset and locate all the roe with\n",
    "                                                     # cassava/yam label and drop them. It will drop 7 rows."
   ]
  },
  {
   "cell_type": "code",
   "execution_count": 11,
   "metadata": {},
   "outputs": [
    {
     "data": {
      "text/plain": [
       "rice                100\n",
       "grapes              100\n",
       "coffee              100\n",
       "jute/ewedu          100\n",
       "cotton              100\n",
       "coconut             100\n",
       "papaya              100\n",
       "orange              100\n",
       "palm tree           100\n",
       "muskmelon           100\n",
       "watermelon          100\n",
       "mango               100\n",
       "maize               100\n",
       "banana              100\n",
       "cashew              100\n",
       "beni/sesame seed    100\n",
       "black beans         100\n",
       "mungbean            100\n",
       "mothbeans           100\n",
       "pigeonpeas          100\n",
       "kidneybeans         100\n",
       "chickpea            100\n",
       "potato              100\n",
       "Name: Label, dtype: int64"
      ]
     },
     "execution_count": 11,
     "metadata": {},
     "output_type": "execute_result"
    }
   ],
   "source": [
    "# data.drop(yam, inplace = True)\n",
    "data['Label'].value_counts()   # from the result, we see that the 'cassava/yam' label is no longer present"
   ]
  },
  {
   "cell_type": "code",
   "execution_count": 12,
   "metadata": {},
   "outputs": [
    {
     "data": {
      "text/plain": [
       "(2300, 8)"
      ]
     },
     "execution_count": 12,
     "metadata": {},
     "output_type": "execute_result"
    }
   ],
   "source": [
    "data.shape  # the shape of the data is now equal"
   ]
  },
  {
   "cell_type": "code",
   "execution_count": 13,
   "metadata": {},
   "outputs": [
    {
     "data": {
      "text/plain": [
       "23"
      ]
     },
     "execution_count": 13,
     "metadata": {},
     "output_type": "execute_result"
    }
   ],
   "source": [
    "len(data['Label'].unique()) # Instead of 24 we now have only 23 unique crops because we dropped 'cassava/yam'"
   ]
  },
  {
   "cell_type": "markdown",
   "metadata": {},
   "source": [
    "### Correlation Matrix\n",
    "***\n",
    "The fact that the dataset has no missing value makes our work easier,so next we move to dropping features that might\n",
    "reduce the accuracy of our model but to be able to do that first you to have a domain knowledge of the kind of system\n",
    "you are working on. Another way to eliminate features is by checking for the correlation between these features.\n",
    " \n",
    "\n",
    "Using Pearson Correlation, we are doing a plot for the correlation between the features in our dataset and it is going to show us as a heatmap and this is acheived using the seaborn library we imported earlier.\n",
    "***\n",
    "\n",
    "***\n",
    "Basically if two features are highly correlated with more than 80% (0.8) correlation, you can drop one of the two feature\n",
    "if they arre both independent features e.g(loancontact,month,day_of_week,duration,campaign,pdays,previous,poutcome,emp_var_rate  or our X features),but if they are highly correlated with the dependent variable ('subscribed' or the Y feature) we won't remove it because it will be veery helpful in our prediction.\n",
    "***\n",
    "\n",
    "***\n",
    "Also, only features with numerical values appear on the correlation diagram.\n",
    "\n",
    "In data preparation whatever we do to our train data, we do the same to the test data\n",
    "***"
   ]
  },
  {
   "cell_type": "code",
   "execution_count": 14,
   "metadata": {},
   "outputs": [
    {
     "data": {
      "image/png": "[encoded data removed]",
      "text/plain": [
       "<Figure size 1200x1000 with 2 Axes>"
      ]
     },
     "metadata": {},
     "output_type": "display_data"
    }
   ],
   "source": [
    "plt.figure(figsize=(12,10))\n",
    "corr = data.corr()\n",
    "sns.heatmap(corr, annot=True,cmap=plt.cm.CMRmap_r)\n",
    "plt.show()"
   ]
  },
  {
   "cell_type": "markdown",
   "metadata": {},
   "source": [
    "Since none of the features in the dataset is highly correlated with the other, it means that all the variables are distinct and will be useful to the model in making presiction.\n",
    "***"
   ]
  },
  {
   "cell_type": "markdown",
   "metadata": {},
   "source": [
    "## 4. Splitting the data into Dependent (y) and Independent (x) Variables\n",
    "***\n",
    "This is the first step to splittiing the data into train and test set. Here we seperate the target variable ('Label') from the independent variables."
   ]
  },
  {
   "cell_type": "code",
   "execution_count": 15,
   "metadata": {},
   "outputs": [],
   "source": [
    "x = data.drop(['Label'], axis = 1) # these are the set of independent variables\n",
    "\n",
    "y = data['Label'] # this the target variable"
   ]
  },
  {
   "cell_type": "markdown",
   "metadata": {},
   "source": [
    "***\n",
    "<b>Note: </b>Later we will be building four models, we want to create two empty lists where we will append the values of their accuracy and the name of the model so that we can be able to visualize it in a plot\n",
    "***"
   ]
  },
  {
   "cell_type": "code",
   "execution_count": 16,
   "metadata": {},
   "outputs": [],
   "source": [
    "# Initializing empty lists to append all model's name and corresponding name\n",
    "acc = []\n",
    "model1 = []"
   ]
  },
  {
   "cell_type": "markdown",
   "metadata": {},
   "source": [
    "## 5. Splitting the data into Train and Test set\n",
    "***\n",
    "what we are doing here is preparing the data for machine learning modeling.\n",
    "\n",
    "we split the data into train and test set, where the train set is 80% of the entire dataset and the test set is 20%\n",
    "***"
   ]
  },
  {
   "cell_type": "code",
   "execution_count": 17,
   "metadata": {},
   "outputs": [],
   "source": [
    "from sklearn.model_selection import train_test_split"
   ]
  },
  {
   "cell_type": "code",
   "execution_count": 18,
   "metadata": {},
   "outputs": [],
   "source": [
    "x_train,x_test,y_train,y_test =train_test_split(x,y, test_size=0.2, stratify = y, random_state =1342)"
   ]
  },
  {
   "cell_type": "markdown",
   "metadata": {},
   "source": [
    "## 6. Modeling\n",
    "***\n",
    "The first step is to import the machine learning algorithm to be used. In this case it is the Random Forest Classifier."
   ]
  },
  {
   "cell_type": "markdown",
   "metadata": {},
   "source": [
    "### Random Forest Classifier"
   ]
  },
  {
   "cell_type": "code",
   "execution_count": 19,
   "metadata": {},
   "outputs": [],
   "source": [
    "from sklearn.ensemble import RandomForestClassifier"
   ]
  },
  {
   "cell_type": "code",
   "execution_count": 20,
   "metadata": {},
   "outputs": [],
   "source": [
    "RFC = RandomForestClassifier() #Here wew are just assigning a variable name and creating an object class RandomForestClassifier                "
   ]
  },
  {
   "cell_type": "code",
   "execution_count": 21,
   "metadata": {},
   "outputs": [
    {
     "data": {
      "text/html": [
       "<style>#sk-container-id-1 {color: black;}#sk-container-id-1 pre{padding: 0;}#sk-container-id-1 div.sk-toggleable {background-color: white;}#sk-container-id-1 label.sk-toggleable__label {cursor: pointer;display: block;width: 100%;margin-bottom: 0;padding: 0.3em;box-sizing: border-box;text-align: center;}#sk-container-id-1 label.sk-toggleable__label-arrow:before {content: \"▸\";float: left;margin-right: 0.25em;color: #696969;}#sk-container-id-1 label.sk-toggleable__label-arrow:hover:before {color: black;}#sk-container-id-1 div.sk-estimator:hover label.sk-toggleable__label-arrow:before {color: black;}#sk-container-id-1 div.sk-toggleable__content {max-height: 0;max-width: 0;overflow: hidden;text-align: left;background-color: #f0f8ff;}#sk-container-id-1 div.sk-toggleable__content pre {margin: 0.2em;color: black;border-radius: 0.25em;background-color: #f0f8ff;}#sk-container-id-1 input.sk-toggleable__control:checked~div.sk-toggleable__content {max-height: 200px;max-width: 100%;overflow: auto;}#sk-container-id-1 input.sk-toggleable__control:checked~label.sk-toggleable__label-arrow:before {content: \"▾\";}#sk-container-id-1 div.sk-estimator input.sk-toggleable__control:checked~label.sk-toggleable__label {background-color: #d4ebff;}#sk-container-id-1 div.sk-label input.sk-toggleable__control:checked~label.sk-toggleable__label {background-color: #d4ebff;}#sk-container-id-1 input.sk-hidden--visually {border: 0;clip: rect(1px 1px 1px 1px);clip: rect(1px, 1px, 1px, 1px);height: 1px;margin: -1px;overflow: hidden;padding: 0;position: absolute;width: 1px;}#sk-container-id-1 div.sk-estimator {font-family: monospace;background-color: #f0f8ff;border: 1px dotted black;border-radius: 0.25em;box-sizing: border-box;margin-bottom: 0.5em;}#sk-container-id-1 div.sk-estimator:hover {background-color: #d4ebff;}#sk-container-id-1 div.sk-parallel-item::after {content: \"\";width: 100%;border-bottom: 1px solid gray;flex-grow: 1;}#sk-container-id-1 div.sk-label:hover label.sk-toggleable__label {background-color: #d4ebff;}#sk-container-id-1 div.sk-serial::before {content: \"\";position: absolute;border-left: 1px solid gray;box-sizing: border-box;top: 0;bottom: 0;left: 50%;z-index: 0;}#sk-container-id-1 div.sk-serial {display: flex;flex-direction: column;align-items: center;background-color: white;padding-right: 0.2em;padding-left: 0.2em;position: relative;}#sk-container-id-1 div.sk-item {position: relative;z-index: 1;}#sk-container-id-1 div.sk-parallel {display: flex;align-items: stretch;justify-content: center;background-color: white;position: relative;}#sk-container-id-1 div.sk-item::before, #sk-container-id-1 div.sk-parallel-item::before {content: \"\";position: absolute;border-left: 1px solid gray;box-sizing: border-box;top: 0;bottom: 0;left: 50%;z-index: -1;}#sk-container-id-1 div.sk-parallel-item {display: flex;flex-direction: column;z-index: 1;position: relative;background-color: white;}#sk-container-id-1 div.sk-parallel-item:first-child::after {align-self: flex-end;width: 50%;}#sk-container-id-1 div.sk-parallel-item:last-child::after {align-self: flex-start;width: 50%;}#sk-container-id-1 div.sk-parallel-item:only-child::after {width: 0;}#sk-container-id-1 div.sk-dashed-wrapped {border: 1px dashed gray;margin: 0 0.4em 0.5em 0.4em;box-sizing: border-box;padding-bottom: 0.4em;background-color: white;}#sk-container-id-1 div.sk-label label {font-family: monospace;font-weight: bold;display: inline-block;line-height: 1.2em;}#sk-container-id-1 div.sk-label-container {text-align: center;}#sk-container-id-1 div.sk-container {/* jupyter's `normalize.less` sets `[hidden] { display: none; }` but bootstrap.min.css set `[hidden] { display: none !important; }` so we also need the `!important` here to be able to override the default hidden behavior on the sphinx rendered scikit-learn.org. See: https://github.com/scikit-learn/scikit-learn/issues/21755 */display: inline-block !important;position: relative;}#sk-container-id-1 div.sk-text-repr-fallback {display: none;}</style><div id=\"sk-container-id-1\" class=\"sk-top-container\"><div class=\"sk-text-repr-fallback\"><pre>RandomForestClassifier()</pre><b>In a Jupyter environment, please rerun this cell to show the HTML representation or trust the notebook. <br />On GitHub, the HTML representation is unable to render, please try loading this page with nbviewer.org.</b></div><div class=\"sk-container\" hidden><div class=\"sk-item\"><div class=\"sk-estimator sk-toggleable\"><input class=\"sk-toggleable__control sk-hidden--visually\" id=\"sk-estimator-id-1\" type=\"checkbox\" checked><label for=\"sk-estimator-id-1\" class=\"sk-toggleable__label sk-toggleable__label-arrow\">RandomForestClassifier</label><div class=\"sk-toggleable__content\"><pre>RandomForestClassifier()</pre></div></div></div></div></div>"
      ],
      "text/plain": [
       "RandomForestClassifier()"
      ]
     },
     "execution_count": 21,
     "metadata": {},
     "output_type": "execute_result"
    }
   ],
   "source": [
    "RFC.fit(x_train,y_train) # this is the actual training process"
   ]
  },
  {
   "cell_type": "code",
   "execution_count": 22,
   "metadata": {},
   "outputs": [],
   "source": [
    "# The model is now ready to make predictons using only the features from the test data\n",
    "RFC_prediction = RFC.predict(x_test)\n",
    "RFC_x_train_prediction = RFC.predict(x_train) \n"
   ]
  },
  {
   "cell_type": "markdown",
   "metadata": {},
   "source": [
    "# Performance Evaluation of the Model\n",
    "***\n",
    "This is where we assess the model and check how accurate it was ableto make these predictions\n",
    "***"
   ]
  },
  {
   "cell_type": "code",
   "execution_count": 23,
   "metadata": {},
   "outputs": [],
   "source": [
    "from sklearn.metrics import classification_report\n",
    "from sklearn.metrics import accuracy_score \n",
    "from sklearn import metrics"
   ]
  },
  {
   "cell_type": "code",
   "execution_count": 24,
   "metadata": {},
   "outputs": [],
   "source": [
    "accuracy_RFC = metrics.accuracy_score(y_test, RFC_prediction)"
   ]
  },
  {
   "cell_type": "code",
   "execution_count": 25,
   "metadata": {},
   "outputs": [
    {
     "name": "stdout",
     "output_type": "stream",
     "text": [
      "Test accuracy_RFC:  0.9891304347826086 \n",
      "\n",
      "Train accuracy:  1.0 \n",
      "\n",
      "                  precision    recall  f1-score   support\n",
      "\n",
      "          banana       1.00      1.00      1.00        20\n",
      "beni/sesame seed       1.00      1.00      1.00        20\n",
      "     black beans       1.00      1.00      1.00        20\n",
      "          cashew       1.00      1.00      1.00        20\n",
      "        chickpea       1.00      1.00      1.00        20\n",
      "         coconut       1.00      1.00      1.00        20\n",
      "          coffee       1.00      1.00      1.00        20\n",
      "          cotton       1.00      1.00      1.00        20\n",
      "          grapes       1.00      1.00      1.00        20\n",
      "      jute/ewedu       0.80      1.00      0.89        20\n",
      "     kidneybeans       1.00      1.00      1.00        20\n",
      "           maize       1.00      1.00      1.00        20\n",
      "           mango       1.00      1.00      1.00        20\n",
      "       mothbeans       1.00      1.00      1.00        20\n",
      "        mungbean       1.00      1.00      1.00        20\n",
      "       muskmelon       1.00      1.00      1.00        20\n",
      "          orange       1.00      1.00      1.00        20\n",
      "       palm tree       1.00      1.00      1.00        20\n",
      "          papaya       1.00      1.00      1.00        20\n",
      "      pigeonpeas       1.00      1.00      1.00        20\n",
      "          potato       1.00      1.00      1.00        20\n",
      "            rice       1.00      0.75      0.86        20\n",
      "      watermelon       1.00      1.00      1.00        20\n",
      "\n",
      "        accuracy                           0.99       460\n",
      "       macro avg       0.99      0.99      0.99       460\n",
      "    weighted avg       0.99      0.99      0.99       460\n",
      "\n"
     ]
    }
   ],
   "source": [
    "print('Test accuracy_RFC: ',accuracy_RFC,'\\n')\n",
    "print('Train accuracy: ',accuracy_score(y_train,RFC_x_train_prediction),'\\n')\n",
    "print(classification_report(y_test, RFC_prediction))"
   ]
  },
  {
   "cell_type": "markdown",
   "metadata": {},
   "source": [
    "### Saving Random Forest Classifier model in a pickle file\n",
    "***\n",
    "The pickle file of the model is what will be deployed on the web application."
   ]
  },
  {
   "cell_type": "code",
   "execution_count": 26,
   "metadata": {},
   "outputs": [],
   "source": [
    "import pickle\n",
    "# Dump the trained Naive Bayes classifier with Pickle\n",
    "RFC_pkl_filename = 'RandomForest.pkl'\n",
    "\n",
    "# Open the file to save as pkl file\n",
    "RFC_Model_pkl = open(RFC_pkl_filename, 'wb')\n",
    "pickle.dump(RFC, RFC_Model_pkl)\n",
    "\n",
    "# Close the pickle instances\n",
    "RFC_Model_pkl.close()"
   ]
  },
  {
   "cell_type": "markdown",
   "metadata": {},
   "source": [
    "### Decision Tree Classifier"
   ]
  },
  {
   "cell_type": "code",
   "execution_count": 27,
   "metadata": {},
   "outputs": [],
   "source": [
    "from sklearn.tree import DecisionTreeClassifier"
   ]
  },
  {
   "cell_type": "code",
   "execution_count": 28,
   "metadata": {},
   "outputs": [],
   "source": [
    "DTC = DecisionTreeClassifier()"
   ]
  },
  {
   "cell_type": "code",
   "execution_count": 29,
   "metadata": {},
   "outputs": [
    {
     "data": {
      "text/html": [
       "<style>#sk-container-id-2 {color: black;}#sk-container-id-2 pre{padding: 0;}#sk-container-id-2 div.sk-toggleable {background-color: white;}#sk-container-id-2 label.sk-toggleable__label {cursor: pointer;display: block;width: 100%;margin-bottom: 0;padding: 0.3em;box-sizing: border-box;text-align: center;}#sk-container-id-2 label.sk-toggleable__label-arrow:before {content: \"▸\";float: left;margin-right: 0.25em;color: #696969;}#sk-container-id-2 label.sk-toggleable__label-arrow:hover:before {color: black;}#sk-container-id-2 div.sk-estimator:hover label.sk-toggleable__label-arrow:before {color: black;}#sk-container-id-2 div.sk-toggleable__content {max-height: 0;max-width: 0;overflow: hidden;text-align: left;background-color: #f0f8ff;}#sk-container-id-2 div.sk-toggleable__content pre {margin: 0.2em;color: black;border-radius: 0.25em;background-color: #f0f8ff;}#sk-container-id-2 input.sk-toggleable__control:checked~div.sk-toggleable__content {max-height: 200px;max-width: 100%;overflow: auto;}#sk-container-id-2 input.sk-toggleable__control:checked~label.sk-toggleable__label-arrow:before {content: \"▾\";}#sk-container-id-2 div.sk-estimator input.sk-toggleable__control:checked~label.sk-toggleable__label {background-color: #d4ebff;}#sk-container-id-2 div.sk-label input.sk-toggleable__control:checked~label.sk-toggleable__label {background-color: #d4ebff;}#sk-container-id-2 input.sk-hidden--visually {border: 0;clip: rect(1px 1px 1px 1px);clip: rect(1px, 1px, 1px, 1px);height: 1px;margin: -1px;overflow: hidden;padding: 0;position: absolute;width: 1px;}#sk-container-id-2 div.sk-estimator {font-family: monospace;background-color: #f0f8ff;border: 1px dotted black;border-radius: 0.25em;box-sizing: border-box;margin-bottom: 0.5em;}#sk-container-id-2 div.sk-estimator:hover {background-color: #d4ebff;}#sk-container-id-2 div.sk-parallel-item::after {content: \"\";width: 100%;border-bottom: 1px solid gray;flex-grow: 1;}#sk-container-id-2 div.sk-label:hover label.sk-toggleable__label {background-color: #d4ebff;}#sk-container-id-2 div.sk-serial::before {content: \"\";position: absolute;border-left: 1px solid gray;box-sizing: border-box;top: 0;bottom: 0;left: 50%;z-index: 0;}#sk-container-id-2 div.sk-serial {display: flex;flex-direction: column;align-items: center;background-color: white;padding-right: 0.2em;padding-left: 0.2em;position: relative;}#sk-container-id-2 div.sk-item {position: relative;z-index: 1;}#sk-container-id-2 div.sk-parallel {display: flex;align-items: stretch;justify-content: center;background-color: white;position: relative;}#sk-container-id-2 div.sk-item::before, #sk-container-id-2 div.sk-parallel-item::before {content: \"\";position: absolute;border-left: 1px solid gray;box-sizing: border-box;top: 0;bottom: 0;left: 50%;z-index: -1;}#sk-container-id-2 div.sk-parallel-item {display: flex;flex-direction: column;z-index: 1;position: relative;background-color: white;}#sk-container-id-2 div.sk-parallel-item:first-child::after {align-self: flex-end;width: 50%;}#sk-container-id-2 div.sk-parallel-item:last-child::after {align-self: flex-start;width: 50%;}#sk-container-id-2 div.sk-parallel-item:only-child::after {width: 0;}#sk-container-id-2 div.sk-dashed-wrapped {border: 1px dashed gray;margin: 0 0.4em 0.5em 0.4em;box-sizing: border-box;padding-bottom: 0.4em;background-color: white;}#sk-container-id-2 div.sk-label label {font-family: monospace;font-weight: bold;display: inline-block;line-height: 1.2em;}#sk-container-id-2 div.sk-label-container {text-align: center;}#sk-container-id-2 div.sk-container {/* jupyter's `normalize.less` sets `[hidden] { display: none; }` but bootstrap.min.css set `[hidden] { display: none !important; }` so we also need the `!important` here to be able to override the default hidden behavior on the sphinx rendered scikit-learn.org. See: https://github.com/scikit-learn/scikit-learn/issues/21755 */display: inline-block !important;position: relative;}#sk-container-id-2 div.sk-text-repr-fallback {display: none;}</style><div id=\"sk-container-id-2\" class=\"sk-top-container\"><div class=\"sk-text-repr-fallback\"><pre>DecisionTreeClassifier()</pre><b>In a Jupyter environment, please rerun this cell to show the HTML representation or trust the notebook. <br />On GitHub, the HTML representation is unable to render, please try loading this page with nbviewer.org.</b></div><div class=\"sk-container\" hidden><div class=\"sk-item\"><div class=\"sk-estimator sk-toggleable\"><input class=\"sk-toggleable__control sk-hidden--visually\" id=\"sk-estimator-id-2\" type=\"checkbox\" checked><label for=\"sk-estimator-id-2\" class=\"sk-toggleable__label sk-toggleable__label-arrow\">DecisionTreeClassifier</label><div class=\"sk-toggleable__content\"><pre>DecisionTreeClassifier()</pre></div></div></div></div></div>"
      ],
      "text/plain": [
       "DecisionTreeClassifier()"
      ]
     },
     "execution_count": 29,
     "metadata": {},
     "output_type": "execute_result"
    }
   ],
   "source": [
    "DTC.fit(x_train,y_train)"
   ]
  },
  {
   "cell_type": "code",
   "execution_count": 30,
   "metadata": {},
   "outputs": [],
   "source": [
    "DTC_prediction = DTC.predict(x_test)\n",
    "DTC_x_train_prediction = DTC.predict(x_train) "
   ]
  },
  {
   "cell_type": "code",
   "execution_count": 31,
   "metadata": {},
   "outputs": [],
   "source": [
    "accuracy_DTC = metrics.accuracy_score(y_test, DTC_prediction)"
   ]
  },
  {
   "cell_type": "code",
   "execution_count": 32,
   "metadata": {},
   "outputs": [
    {
     "name": "stdout",
     "output_type": "stream",
     "text": [
      "Test accuracy_DTC:  0.9869565217391304 \n",
      "\n",
      "Train accuracy:  1.0 \n",
      "\n",
      "                  precision    recall  f1-score   support\n",
      "\n",
      "          banana       1.00      1.00      1.00        20\n",
      "beni/sesame seed       1.00      1.00      1.00        20\n",
      "     black beans       1.00      0.95      0.97        20\n",
      "          cashew       1.00      1.00      1.00        20\n",
      "        chickpea       1.00      1.00      1.00        20\n",
      "         coconut       1.00      1.00      1.00        20\n",
      "          coffee       1.00      1.00      1.00        20\n",
      "          cotton       1.00      1.00      1.00        20\n",
      "          grapes       1.00      1.00      1.00        20\n",
      "      jute/ewedu       0.83      0.95      0.88        20\n",
      "     kidneybeans       1.00      1.00      1.00        20\n",
      "           maize       1.00      1.00      1.00        20\n",
      "           mango       1.00      1.00      1.00        20\n",
      "       mothbeans       0.95      1.00      0.98        20\n",
      "        mungbean       1.00      1.00      1.00        20\n",
      "       muskmelon       1.00      1.00      1.00        20\n",
      "          orange       1.00      1.00      1.00        20\n",
      "       palm tree       1.00      1.00      1.00        20\n",
      "          papaya       1.00      1.00      1.00        20\n",
      "      pigeonpeas       1.00      1.00      1.00        20\n",
      "          potato       1.00      1.00      1.00        20\n",
      "            rice       0.94      0.80      0.86        20\n",
      "      watermelon       1.00      1.00      1.00        20\n",
      "\n",
      "        accuracy                           0.99       460\n",
      "       macro avg       0.99      0.99      0.99       460\n",
      "    weighted avg       0.99      0.99      0.99       460\n",
      "\n"
     ]
    }
   ],
   "source": [
    "print('Test accuracy_DTC: ',accuracy_DTC,'\\n')\n",
    "print('Train accuracy: ',accuracy_score(y_train,DTC_x_train_prediction),'\\n')\n",
    "print(classification_report(y_test, DTC_prediction))"
   ]
  },
  {
   "cell_type": "markdown",
   "metadata": {},
   "source": [
    "### Saving the Decision Tree Classifier model in a pickle file"
   ]
  },
  {
   "cell_type": "code",
   "execution_count": 33,
   "metadata": {},
   "outputs": [],
   "source": [
    "import pickle\n",
    "# Dump the trained Naive Bayes classifier with Pickle\n",
    "DTC_pkl_filename = 'DecisionTree.pkl'\n",
    "\n",
    "# Open the file to save as pkl file\n",
    "DTC_Model_pkl = open(DTC_pkl_filename, 'wb')\n",
    "pickle.dump(DTC, DTC_Model_pkl)\n",
    "\n",
    "# Close the pickle instances\n",
    "DTC_Model_pkl.close()"
   ]
  },
  {
   "cell_type": "markdown",
   "metadata": {},
   "source": [
    "### Gradient Boost Classifier"
   ]
  },
  {
   "cell_type": "code",
   "execution_count": 34,
   "metadata": {},
   "outputs": [],
   "source": [
    "from sklearn.ensemble import GradientBoostingClassifier"
   ]
  },
  {
   "cell_type": "code",
   "execution_count": 35,
   "metadata": {},
   "outputs": [],
   "source": [
    "GBC = GradientBoostingClassifier()"
   ]
  },
  {
   "cell_type": "code",
   "execution_count": 36,
   "metadata": {},
   "outputs": [
    {
     "data": {
      "text/html": [
       "<style>#sk-container-id-3 {color: black;}#sk-container-id-3 pre{padding: 0;}#sk-container-id-3 div.sk-toggleable {background-color: white;}#sk-container-id-3 label.sk-toggleable__label {cursor: pointer;display: block;width: 100%;margin-bottom: 0;padding: 0.3em;box-sizing: border-box;text-align: center;}#sk-container-id-3 label.sk-toggleable__label-arrow:before {content: \"▸\";float: left;margin-right: 0.25em;color: #696969;}#sk-container-id-3 label.sk-toggleable__label-arrow:hover:before {color: black;}#sk-container-id-3 div.sk-estimator:hover label.sk-toggleable__label-arrow:before {color: black;}#sk-container-id-3 div.sk-toggleable__content {max-height: 0;max-width: 0;overflow: hidden;text-align: left;background-color: #f0f8ff;}#sk-container-id-3 div.sk-toggleable__content pre {margin: 0.2em;color: black;border-radius: 0.25em;background-color: #f0f8ff;}#sk-container-id-3 input.sk-toggleable__control:checked~div.sk-toggleable__content {max-height: 200px;max-width: 100%;overflow: auto;}#sk-container-id-3 input.sk-toggleable__control:checked~label.sk-toggleable__label-arrow:before {content: \"▾\";}#sk-container-id-3 div.sk-estimator input.sk-toggleable__control:checked~label.sk-toggleable__label {background-color: #d4ebff;}#sk-container-id-3 div.sk-label input.sk-toggleable__control:checked~label.sk-toggleable__label {background-color: #d4ebff;}#sk-container-id-3 input.sk-hidden--visually {border: 0;clip: rect(1px 1px 1px 1px);clip: rect(1px, 1px, 1px, 1px);height: 1px;margin: -1px;overflow: hidden;padding: 0;position: absolute;width: 1px;}#sk-container-id-3 div.sk-estimator {font-family: monospace;background-color: #f0f8ff;border: 1px dotted black;border-radius: 0.25em;box-sizing: border-box;margin-bottom: 0.5em;}#sk-container-id-3 div.sk-estimator:hover {background-color: #d4ebff;}#sk-container-id-3 div.sk-parallel-item::after {content: \"\";width: 100%;border-bottom: 1px solid gray;flex-grow: 1;}#sk-container-id-3 div.sk-label:hover label.sk-toggleable__label {background-color: #d4ebff;}#sk-container-id-3 div.sk-serial::before {content: \"\";position: absolute;border-left: 1px solid gray;box-sizing: border-box;top: 0;bottom: 0;left: 50%;z-index: 0;}#sk-container-id-3 div.sk-serial {display: flex;flex-direction: column;align-items: center;background-color: white;padding-right: 0.2em;padding-left: 0.2em;position: relative;}#sk-container-id-3 div.sk-item {position: relative;z-index: 1;}#sk-container-id-3 div.sk-parallel {display: flex;align-items: stretch;justify-content: center;background-color: white;position: relative;}#sk-container-id-3 div.sk-item::before, #sk-container-id-3 div.sk-parallel-item::before {content: \"\";position: absolute;border-left: 1px solid gray;box-sizing: border-box;top: 0;bottom: 0;left: 50%;z-index: -1;}#sk-container-id-3 div.sk-parallel-item {display: flex;flex-direction: column;z-index: 1;position: relative;background-color: white;}#sk-container-id-3 div.sk-parallel-item:first-child::after {align-self: flex-end;width: 50%;}#sk-container-id-3 div.sk-parallel-item:last-child::after {align-self: flex-start;width: 50%;}#sk-container-id-3 div.sk-parallel-item:only-child::after {width: 0;}#sk-container-id-3 div.sk-dashed-wrapped {border: 1px dashed gray;margin: 0 0.4em 0.5em 0.4em;box-sizing: border-box;padding-bottom: 0.4em;background-color: white;}#sk-container-id-3 div.sk-label label {font-family: monospace;font-weight: bold;display: inline-block;line-height: 1.2em;}#sk-container-id-3 div.sk-label-container {text-align: center;}#sk-container-id-3 div.sk-container {/* jupyter's `normalize.less` sets `[hidden] { display: none; }` but bootstrap.min.css set `[hidden] { display: none !important; }` so we also need the `!important` here to be able to override the default hidden behavior on the sphinx rendered scikit-learn.org. See: https://github.com/scikit-learn/scikit-learn/issues/21755 */display: inline-block !important;position: relative;}#sk-container-id-3 div.sk-text-repr-fallback {display: none;}</style><div id=\"sk-container-id-3\" class=\"sk-top-container\"><div class=\"sk-text-repr-fallback\"><pre>GradientBoostingClassifier()</pre><b>In a Jupyter environment, please rerun this cell to show the HTML representation or trust the notebook. <br />On GitHub, the HTML representation is unable to render, please try loading this page with nbviewer.org.</b></div><div class=\"sk-container\" hidden><div class=\"sk-item\"><div class=\"sk-estimator sk-toggleable\"><input class=\"sk-toggleable__control sk-hidden--visually\" id=\"sk-estimator-id-3\" type=\"checkbox\" checked><label for=\"sk-estimator-id-3\" class=\"sk-toggleable__label sk-toggleable__label-arrow\">GradientBoostingClassifier</label><div class=\"sk-toggleable__content\"><pre>GradientBoostingClassifier()</pre></div></div></div></div></div>"
      ],
      "text/plain": [
       "GradientBoostingClassifier()"
      ]
     },
     "execution_count": 36,
     "metadata": {},
     "output_type": "execute_result"
    }
   ],
   "source": [
    "GBC.fit(x_train, y_train)"
   ]
  },
  {
   "cell_type": "code",
   "execution_count": 37,
   "metadata": {},
   "outputs": [],
   "source": [
    "GBC_prediction = GBC.predict(x_test)\n",
    "GBC_x_train_prediction = GBC.predict(x_train) "
   ]
  },
  {
   "cell_type": "code",
   "execution_count": 38,
   "metadata": {},
   "outputs": [],
   "source": [
    "accuracy_GBC = metrics.accuracy_score(y_test, GBC_prediction)"
   ]
  },
  {
   "cell_type": "code",
   "execution_count": 39,
   "metadata": {},
   "outputs": [
    {
     "name": "stdout",
     "output_type": "stream",
     "text": [
      "Test accuracy_GBC:  0.991304347826087 \n",
      "\n",
      "Train accuracy:  1.0 \n",
      "\n",
      "                  precision    recall  f1-score   support\n",
      "\n",
      "          banana       1.00      1.00      1.00        20\n",
      "beni/sesame seed       1.00      1.00      1.00        20\n",
      "     black beans       0.95      1.00      0.98        20\n",
      "          cashew       1.00      1.00      1.00        20\n",
      "        chickpea       1.00      1.00      1.00        20\n",
      "         coconut       1.00      1.00      1.00        20\n",
      "          coffee       1.00      1.00      1.00        20\n",
      "          cotton       1.00      1.00      1.00        20\n",
      "          grapes       1.00      1.00      1.00        20\n",
      "      jute/ewedu       0.87      1.00      0.93        20\n",
      "     kidneybeans       1.00      1.00      1.00        20\n",
      "           maize       1.00      1.00      1.00        20\n",
      "           mango       1.00      1.00      1.00        20\n",
      "       mothbeans       1.00      0.95      0.97        20\n",
      "        mungbean       1.00      1.00      1.00        20\n",
      "       muskmelon       1.00      1.00      1.00        20\n",
      "          orange       1.00      1.00      1.00        20\n",
      "       palm tree       1.00      1.00      1.00        20\n",
      "          papaya       1.00      1.00      1.00        20\n",
      "      pigeonpeas       1.00      1.00      1.00        20\n",
      "          potato       1.00      1.00      1.00        20\n",
      "            rice       1.00      0.85      0.92        20\n",
      "      watermelon       1.00      1.00      1.00        20\n",
      "\n",
      "        accuracy                           0.99       460\n",
      "       macro avg       0.99      0.99      0.99       460\n",
      "    weighted avg       0.99      0.99      0.99       460\n",
      "\n"
     ]
    }
   ],
   "source": [
    "print('Test accuracy_GBC: ',accuracy_GBC,'\\n')\n",
    "print('Train accuracy: ',accuracy_score(y_train,GBC_x_train_prediction),'\\n')\n",
    "print(classification_report(y_test, GBC_prediction))"
   ]
  },
  {
   "cell_type": "markdown",
   "metadata": {},
   "source": [
    "### Saving the Gradient Boost Classifier in a pickle file"
   ]
  },
  {
   "cell_type": "code",
   "execution_count": 40,
   "metadata": {},
   "outputs": [],
   "source": [
    "import pickle\n",
    "# Dump the trained Naive Bayes classifier with Pickle\n",
    "GBC_pkl_filename = 'GradientBoost.pkl'\n",
    "\n",
    "# Open the file to save as pkl file\n",
    "GBC_Model_pkl = open(GBC_pkl_filename, 'wb')\n",
    "pickle.dump(GBC, GBC_Model_pkl)\n",
    "\n",
    "# Close the pickle instances\n",
    "GBC_Model_pkl.close()"
   ]
  },
  {
   "cell_type": "markdown",
   "metadata": {},
   "source": [
    "## Building a Keras Classifier"
   ]
  },
  {
   "cell_type": "code",
   "execution_count": 41,
   "metadata": {},
   "outputs": [],
   "source": [
    "import keras\n",
    "from keras.models import Sequential\n",
    "from keras.layers import Dense, Dropout, Activation\n",
    "from keras.optimizers import SGD\n",
    "from keras.utils import to_categorical\n",
    "from sklearn.preprocessing import OneHotEncoder"
   ]
  },
  {
   "cell_type": "code",
   "execution_count": 42,
   "metadata": {},
   "outputs": [],
   "source": [
    "from sklearn.preprocessing import OneHotEncoder\n",
    "\n",
    "y_train=pd.get_dummies(y_train)\n",
    "y_test=pd.get_dummies(y_test)\n",
    "\n"
   ]
  },
  {
   "cell_type": "code",
   "execution_count": 43,
   "metadata": {},
   "outputs": [
    {
     "name": "stderr",
     "output_type": "stream",
     "text": [
      "C:\\Users\\SHOPINVERSE\\anaconda3\\lib\\site-packages\\keras\\optimizers\\legacy\\gradient_descent.py:114: UserWarning: The `lr` argument is deprecated, use `learning_rate` instead.\n",
      "  super().__init__(name, **kwargs)\n"
     ]
    }
   ],
   "source": [
    "\n",
    "\n",
    "model = Sequential()\n",
    "\n",
    "#Dense(64) is a fully connected layer with 64 hidden units\n",
    "#In this first layer, you must specify the expected input data shape\n",
    "#in this case 7 dimentional vectors\n",
    "\n",
    "model.add(Dense(512, activation='relu', input_dim = 7))\n",
    "# model.add(Dropout(0.5))\n",
    "model.add(Dense(256, activation='relu'))\n",
    "\n",
    "model.add(Dense(128, activation='relu'))\n",
    "\n",
    "model.add(Dense(64, activation='relu'))\n",
    "\n",
    "model.add(Dense(32, activation='relu'))\n",
    "\n",
    "# model.add(Dropout(0.5))\n",
    "model.add(Dense(23 ,activation = 'softmax'))\n",
    "\n",
    "#SGD is the optimizer we will be making use of\n",
    "sgd = SGD(lr=0.02, decay=1e-6, momentum=0.9, nesterov=True)"
   ]
  },
  {
   "cell_type": "code",
   "execution_count": 44,
   "metadata": {},
   "outputs": [],
   "source": [
    "model.compile(loss='categorical_crossentropy',\n",
    "             optimizer=sgd,\n",
    "             metrics=['accuracy'])"
   ]
  },
  {
   "cell_type": "code",
   "execution_count": 45,
   "metadata": {},
   "outputs": [
    {
     "name": "stdout",
     "output_type": "stream",
     "text": [
      "Epoch 1/500\n",
      "15/15 [==============================] - 2s 16ms/step - loss: nan - accuracy: 0.0386                   \n",
      "Epoch 2/500\n",
      "15/15 [==============================] - 0s 12ms/step - loss: nan - accuracy: 0.0435\n",
      "Epoch 3/500\n",
      "15/15 [==============================] - 0s 13ms/step - loss: nan - accuracy: 0.0435\n",
      "Epoch 4/500\n",
      "15/15 [==============================] - 0s 13ms/step - loss: nan - accuracy: 0.0435\n",
      "Epoch 5/500\n",
      "15/15 [==============================] - 0s 11ms/step - loss: nan - accuracy: 0.0435\n",
      "Epoch 6/500\n",
      "15/15 [==============================] - 0s 11ms/step - loss: nan - accuracy: 0.0435\n",
      "Epoch 7/500\n",
      "15/15 [==============================] - 0s 11ms/step - loss: nan - accuracy: 0.0435\n",
      "Epoch 8/500\n",
      "15/15 [==============================] - 0s 11ms/step - loss: nan - accuracy: 0.0435\n",
      "Epoch 9/500\n",
      "15/15 [==============================] - 0s 11ms/step - loss: nan - accuracy: 0.0435\n",
      "Epoch 10/500\n",
      "15/15 [==============================] - 0s 11ms/step - loss: nan - accuracy: 0.0435\n",
      "Epoch 11/500\n",
      "15/15 [==============================] - 0s 10ms/step - loss: nan - accuracy: 0.0435\n",
      "Epoch 12/500\n",
      "15/15 [==============================] - 0s 11ms/step - loss: nan - accuracy: 0.0435\n",
      "Epoch 13/500\n",
      "15/15 [==============================] - 0s 14ms/step - loss: nan - accuracy: 0.0435\n",
      "Epoch 14/500\n",
      "15/15 [==============================] - 0s 14ms/step - loss: nan - accuracy: 0.0435\n",
      "Epoch 15/500\n",
      "15/15 [==============================] - 0s 13ms/step - loss: nan - accuracy: 0.0435\n",
      "Epoch 16/500\n",
      "15/15 [==============================] - 0s 10ms/step - loss: nan - accuracy: 0.0435\n",
      "Epoch 17/500\n",
      "15/15 [==============================] - 0s 10ms/step - loss: nan - accuracy: 0.0435\n",
      "Epoch 18/500\n",
      "15/15 [==============================] - 0s 12ms/step - loss: nan - accuracy: 0.0435\n",
      "Epoch 19/500\n",
      "15/15 [==============================] - 0s 11ms/step - loss: nan - accuracy: 0.0435\n",
      "Epoch 20/500\n",
      "15/15 [==============================] - 0s 12ms/step - loss: nan - accuracy: 0.0435\n",
      "Epoch 21/500\n",
      "15/15 [==============================] - 0s 14ms/step - loss: nan - accuracy: 0.0435\n",
      "Epoch 22/500\n",
      "15/15 [==============================] - 0s 10ms/step - loss: nan - accuracy: 0.0435\n",
      "Epoch 23/500\n",
      "15/15 [==============================] - 0s 10ms/step - loss: nan - accuracy: 0.0435\n",
      "Epoch 24/500\n",
      "15/15 [==============================] - 0s 11ms/step - loss: nan - accuracy: 0.0435\n",
      "Epoch 25/500\n",
      "15/15 [==============================] - 0s 10ms/step - loss: nan - accuracy: 0.0435\n",
      "Epoch 26/500\n",
      "15/15 [==============================] - 0s 11ms/step - loss: nan - accuracy: 0.0435\n",
      "Epoch 27/500\n",
      "15/15 [==============================] - 0s 11ms/step - loss: nan - accuracy: 0.0435\n",
      "Epoch 28/500\n",
      "15/15 [==============================] - 0s 11ms/step - loss: nan - accuracy: 0.0435\n",
      "Epoch 29/500\n",
      "15/15 [==============================] - 0s 11ms/step - loss: nan - accuracy: 0.0435\n",
      "Epoch 30/500\n",
      "15/15 [==============================] - 0s 12ms/step - loss: nan - accuracy: 0.0435\n",
      "Epoch 31/500\n",
      "15/15 [==============================] - 0s 12ms/step - loss: nan - accuracy: 0.0435\n",
      "Epoch 32/500\n",
      "15/15 [==============================] - 0s 9ms/step - loss: nan - accuracy: 0.0435\n",
      "Epoch 33/500\n",
      "15/15 [==============================] - 0s 10ms/step - loss: nan - accuracy: 0.0435\n",
      "Epoch 34/500\n",
      "15/15 [==============================] - 0s 10ms/step - loss: nan - accuracy: 0.0435\n",
      "Epoch 35/500\n",
      "15/15 [==============================] - 0s 11ms/step - loss: nan - accuracy: 0.0435\n",
      "Epoch 36/500\n",
      "15/15 [==============================] - 0s 9ms/step - loss: nan - accuracy: 0.0435\n",
      "Epoch 37/500\n",
      "15/15 [==============================] - 0s 10ms/step - loss: nan - accuracy: 0.0435\n",
      "Epoch 38/500\n",
      "15/15 [==============================] - 0s 10ms/step - loss: nan - accuracy: 0.0435\n",
      "Epoch 39/500\n",
      "15/15 [==============================] - 0s 11ms/step - loss: nan - accuracy: 0.0435\n",
      "Epoch 40/500\n",
      "15/15 [==============================] - 0s 10ms/step - loss: nan - accuracy: 0.0435\n",
      "Epoch 41/500\n",
      "15/15 [==============================] - 0s 14ms/step - loss: nan - accuracy: 0.0435\n",
      "Epoch 42/500\n",
      "15/15 [==============================] - 0s 12ms/step - loss: nan - accuracy: 0.0435\n",
      "Epoch 43/500\n",
      "15/15 [==============================] - 0s 12ms/step - loss: nan - accuracy: 0.0435\n",
      "Epoch 44/500\n",
      "15/15 [==============================] - 0s 10ms/step - loss: nan - accuracy: 0.0435\n",
      "Epoch 45/500\n",
      "15/15 [==============================] - 0s 9ms/step - loss: nan - accuracy: 0.0435\n",
      "Epoch 46/500\n",
      "15/15 [==============================] - 0s 11ms/step - loss: nan - accuracy: 0.0435\n",
      "Epoch 47/500\n",
      "15/15 [==============================] - 0s 10ms/step - loss: nan - accuracy: 0.0435\n",
      "Epoch 48/500\n",
      "15/15 [==============================] - 0s 11ms/step - loss: nan - accuracy: 0.0435\n",
      "Epoch 49/500\n",
      "15/15 [==============================] - 0s 11ms/step - loss: nan - accuracy: 0.0435\n",
      "Epoch 50/500\n",
      "15/15 [==============================] - 0s 11ms/step - loss: nan - accuracy: 0.0435\n",
      "Epoch 51/500\n",
      "15/15 [==============================] - 0s 10ms/step - loss: nan - accuracy: 0.0435\n",
      "Epoch 52/500\n",
      "15/15 [==============================] - 0s 12ms/step - loss: nan - accuracy: 0.0435\n",
      "Epoch 53/500\n",
      "15/15 [==============================] - 0s 10ms/step - loss: nan - accuracy: 0.0435\n",
      "Epoch 54/500\n",
      "15/15 [==============================] - 0s 11ms/step - loss: nan - accuracy: 0.0435\n",
      "Epoch 55/500\n",
      "15/15 [==============================] - 0s 10ms/step - loss: nan - accuracy: 0.0435\n",
      "Epoch 56/500\n",
      "15/15 [==============================] - 0s 10ms/step - loss: nan - accuracy: 0.0435\n",
      "Epoch 57/500\n",
      "15/15 [==============================] - 0s 10ms/step - loss: nan - accuracy: 0.0435\n",
      "Epoch 58/500\n",
      "15/15 [==============================] - 0s 10ms/step - loss: nan - accuracy: 0.0435\n",
      "Epoch 59/500\n",
      "15/15 [==============================] - 0s 15ms/step - loss: nan - accuracy: 0.0435\n",
      "Epoch 60/500\n",
      "15/15 [==============================] - 0s 13ms/step - loss: nan - accuracy: 0.0435\n",
      "Epoch 61/500\n",
      "15/15 [==============================] - 0s 12ms/step - loss: nan - accuracy: 0.0435\n",
      "Epoch 62/500\n",
      "15/15 [==============================] - 0s 10ms/step - loss: nan - accuracy: 0.0435\n",
      "Epoch 63/500\n",
      "15/15 [==============================] - 0s 12ms/step - loss: nan - accuracy: 0.0435\n",
      "Epoch 64/500\n",
      "15/15 [==============================] - 0s 10ms/step - loss: nan - accuracy: 0.0435\n",
      "Epoch 65/500\n",
      "15/15 [==============================] - 0s 10ms/step - loss: nan - accuracy: 0.0435\n",
      "Epoch 66/500\n",
      "15/15 [==============================] - 0s 11ms/step - loss: nan - accuracy: 0.0435\n",
      "Epoch 67/500\n",
      "15/15 [==============================] - 0s 10ms/step - loss: nan - accuracy: 0.0435\n",
      "Epoch 68/500\n",
      "15/15 [==============================] - 0s 10ms/step - loss: nan - accuracy: 0.0435\n",
      "Epoch 69/500\n",
      "15/15 [==============================] - 0s 13ms/step - loss: nan - accuracy: 0.0435\n",
      "Epoch 70/500\n",
      "15/15 [==============================] - 0s 14ms/step - loss: nan - accuracy: 0.0435\n",
      "Epoch 71/500\n",
      "15/15 [==============================] - 0s 14ms/step - loss: nan - accuracy: 0.0435\n",
      "Epoch 72/500\n",
      "15/15 [==============================] - 0s 14ms/step - loss: nan - accuracy: 0.0435\n",
      "Epoch 73/500\n",
      "15/15 [==============================] - 0s 14ms/step - loss: nan - accuracy: 0.0435\n",
      "Epoch 74/500\n",
      "15/15 [==============================] - 0s 14ms/step - loss: nan - accuracy: 0.0435\n",
      "Epoch 75/500\n",
      "15/15 [==============================] - 0s 13ms/step - loss: nan - accuracy: 0.0435\n",
      "Epoch 76/500\n",
      "15/15 [==============================] - 0s 10ms/step - loss: nan - accuracy: 0.0435\n",
      "Epoch 77/500\n",
      "15/15 [==============================] - 0s 12ms/step - loss: nan - accuracy: 0.0435\n",
      "Epoch 78/500\n",
      "15/15 [==============================] - 0s 12ms/step - loss: nan - accuracy: 0.0435\n",
      "Epoch 79/500\n",
      "15/15 [==============================] - 0s 11ms/step - loss: nan - accuracy: 0.0435\n",
      "Epoch 80/500\n",
      "15/15 [==============================] - 0s 11ms/step - loss: nan - accuracy: 0.0435\n",
      "Epoch 81/500\n",
      "15/15 [==============================] - 0s 11ms/step - loss: nan - accuracy: 0.0435\n",
      "Epoch 82/500\n",
      "15/15 [==============================] - 0s 10ms/step - loss: nan - accuracy: 0.0435\n",
      "Epoch 83/500\n",
      "15/15 [==============================] - 0s 11ms/step - loss: nan - accuracy: 0.0435\n",
      "Epoch 84/500\n"
     ]
    },
    {
     "name": "stdout",
     "output_type": "stream",
     "text": [
      "15/15 [==============================] - 0s 12ms/step - loss: nan - accuracy: 0.0435\n",
      "Epoch 85/500\n",
      "15/15 [==============================] - 0s 11ms/step - loss: nan - accuracy: 0.0435\n",
      "Epoch 86/500\n",
      "15/15 [==============================] - 0s 11ms/step - loss: nan - accuracy: 0.0435\n",
      "Epoch 87/500\n",
      "15/15 [==============================] - 0s 12ms/step - loss: nan - accuracy: 0.0435\n",
      "Epoch 88/500\n",
      "15/15 [==============================] - 0s 11ms/step - loss: nan - accuracy: 0.0435\n",
      "Epoch 89/500\n",
      "15/15 [==============================] - 0s 11ms/step - loss: nan - accuracy: 0.0435\n",
      "Epoch 90/500\n",
      "15/15 [==============================] - 0s 11ms/step - loss: nan - accuracy: 0.0435\n",
      "Epoch 91/500\n",
      "15/15 [==============================] - 0s 10ms/step - loss: nan - accuracy: 0.0435\n",
      "Epoch 92/500\n",
      "15/15 [==============================] - 0s 11ms/step - loss: nan - accuracy: 0.0435\n",
      "Epoch 93/500\n",
      "15/15 [==============================] - 0s 11ms/step - loss: nan - accuracy: 0.0435\n",
      "Epoch 94/500\n",
      "15/15 [==============================] - 0s 10ms/step - loss: nan - accuracy: 0.0435\n",
      "Epoch 95/500\n",
      "15/15 [==============================] - 0s 11ms/step - loss: nan - accuracy: 0.0435\n",
      "Epoch 96/500\n",
      "15/15 [==============================] - 0s 10ms/step - loss: nan - accuracy: 0.0435\n",
      "Epoch 97/500\n",
      "15/15 [==============================] - 0s 12ms/step - loss: nan - accuracy: 0.0435\n",
      "Epoch 98/500\n",
      "15/15 [==============================] - 0s 11ms/step - loss: nan - accuracy: 0.0435\n",
      "Epoch 99/500\n",
      "15/15 [==============================] - 0s 14ms/step - loss: nan - accuracy: 0.0435\n",
      "Epoch 100/500\n",
      "15/15 [==============================] - 0s 11ms/step - loss: nan - accuracy: 0.0435\n",
      "Epoch 101/500\n",
      "15/15 [==============================] - 0s 14ms/step - loss: nan - accuracy: 0.0435\n",
      "Epoch 102/500\n",
      "15/15 [==============================] - 0s 14ms/step - loss: nan - accuracy: 0.0435\n",
      "Epoch 103/500\n",
      "15/15 [==============================] - 0s 14ms/step - loss: nan - accuracy: 0.0435\n",
      "Epoch 104/500\n",
      "15/15 [==============================] - 0s 13ms/step - loss: nan - accuracy: 0.0435\n",
      "Epoch 105/500\n",
      "15/15 [==============================] - 0s 11ms/step - loss: nan - accuracy: 0.0435\n",
      "Epoch 106/500\n",
      "15/15 [==============================] - 0s 9ms/step - loss: nan - accuracy: 0.0435\n",
      "Epoch 107/500\n",
      "15/15 [==============================] - 0s 11ms/step - loss: nan - accuracy: 0.0435\n",
      "Epoch 108/500\n",
      "15/15 [==============================] - 0s 11ms/step - loss: nan - accuracy: 0.0435\n",
      "Epoch 109/500\n",
      "15/15 [==============================] - 0s 11ms/step - loss: nan - accuracy: 0.0435\n",
      "Epoch 110/500\n",
      "15/15 [==============================] - 0s 14ms/step - loss: nan - accuracy: 0.0435\n",
      "Epoch 111/500\n",
      "15/15 [==============================] - 0s 11ms/step - loss: nan - accuracy: 0.0435\n",
      "Epoch 112/500\n",
      "15/15 [==============================] - 0s 11ms/step - loss: nan - accuracy: 0.0435\n",
      "Epoch 113/500\n",
      "15/15 [==============================] - 0s 15ms/step - loss: nan - accuracy: 0.0435\n",
      "Epoch 114/500\n",
      "15/15 [==============================] - 0s 11ms/step - loss: nan - accuracy: 0.0435\n",
      "Epoch 115/500\n",
      "15/15 [==============================] - 0s 9ms/step - loss: nan - accuracy: 0.0435\n",
      "Epoch 116/500\n",
      "15/15 [==============================] - 0s 11ms/step - loss: nan - accuracy: 0.0435\n",
      "Epoch 117/500\n",
      "15/15 [==============================] - 0s 13ms/step - loss: nan - accuracy: 0.0435\n",
      "Epoch 118/500\n",
      "15/15 [==============================] - 0s 14ms/step - loss: nan - accuracy: 0.0435\n",
      "Epoch 119/500\n",
      "15/15 [==============================] - 0s 12ms/step - loss: nan - accuracy: 0.0435\n",
      "Epoch 120/500\n",
      "15/15 [==============================] - 0s 10ms/step - loss: nan - accuracy: 0.0435\n",
      "Epoch 121/500\n",
      "15/15 [==============================] - 0s 16ms/step - loss: nan - accuracy: 0.0435\n",
      "Epoch 122/500\n",
      "15/15 [==============================] - 0s 14ms/step - loss: nan - accuracy: 0.0435\n",
      "Epoch 123/500\n",
      "15/15 [==============================] - 0s 10ms/step - loss: nan - accuracy: 0.0435\n",
      "Epoch 124/500\n",
      "15/15 [==============================] - 0s 11ms/step - loss: nan - accuracy: 0.0435\n",
      "Epoch 125/500\n",
      "15/15 [==============================] - 0s 11ms/step - loss: nan - accuracy: 0.0435\n",
      "Epoch 126/500\n",
      "15/15 [==============================] - 0s 10ms/step - loss: nan - accuracy: 0.0435\n",
      "Epoch 127/500\n",
      "15/15 [==============================] - 0s 10ms/step - loss: nan - accuracy: 0.0435\n",
      "Epoch 128/500\n",
      "15/15 [==============================] - 0s 10ms/step - loss: nan - accuracy: 0.0435\n",
      "Epoch 129/500\n",
      "15/15 [==============================] - 0s 11ms/step - loss: nan - accuracy: 0.0435\n",
      "Epoch 130/500\n",
      "15/15 [==============================] - 0s 10ms/step - loss: nan - accuracy: 0.0435\n",
      "Epoch 131/500\n",
      "15/15 [==============================] - 0s 10ms/step - loss: nan - accuracy: 0.0435\n",
      "Epoch 132/500\n",
      "15/15 [==============================] - 0s 10ms/step - loss: nan - accuracy: 0.0435\n",
      "Epoch 133/500\n",
      "15/15 [==============================] - 0s 11ms/step - loss: nan - accuracy: 0.0435\n",
      "Epoch 134/500\n",
      "15/15 [==============================] - 0s 10ms/step - loss: nan - accuracy: 0.0435\n",
      "Epoch 135/500\n",
      "15/15 [==============================] - 0s 11ms/step - loss: nan - accuracy: 0.0435\n",
      "Epoch 136/500\n",
      "15/15 [==============================] - 0s 10ms/step - loss: nan - accuracy: 0.0435\n",
      "Epoch 137/500\n",
      "15/15 [==============================] - 0s 11ms/step - loss: nan - accuracy: 0.0435\n",
      "Epoch 138/500\n",
      "15/15 [==============================] - 0s 11ms/step - loss: nan - accuracy: 0.0435\n",
      "Epoch 139/500\n",
      "15/15 [==============================] - 0s 11ms/step - loss: nan - accuracy: 0.0435\n",
      "Epoch 140/500\n",
      "15/15 [==============================] - 0s 11ms/step - loss: nan - accuracy: 0.0435\n",
      "Epoch 141/500\n",
      "15/15 [==============================] - 0s 10ms/step - loss: nan - accuracy: 0.0435\n",
      "Epoch 142/500\n",
      "15/15 [==============================] - 0s 11ms/step - loss: nan - accuracy: 0.0435\n",
      "Epoch 143/500\n",
      "15/15 [==============================] - 0s 12ms/step - loss: nan - accuracy: 0.0435\n",
      "Epoch 144/500\n",
      "15/15 [==============================] - 0s 10ms/step - loss: nan - accuracy: 0.0435\n",
      "Epoch 145/500\n",
      "15/15 [==============================] - 0s 11ms/step - loss: nan - accuracy: 0.0435\n",
      "Epoch 146/500\n",
      "15/15 [==============================] - 0s 9ms/step - loss: nan - accuracy: 0.0435\n",
      "Epoch 147/500\n",
      "15/15 [==============================] - 0s 10ms/step - loss: nan - accuracy: 0.0435\n",
      "Epoch 148/500\n",
      "15/15 [==============================] - 0s 13ms/step - loss: nan - accuracy: 0.0435\n",
      "Epoch 149/500\n",
      "15/15 [==============================] - 0s 10ms/step - loss: nan - accuracy: 0.0435\n",
      "Epoch 150/500\n",
      "15/15 [==============================] - 0s 9ms/step - loss: nan - accuracy: 0.0435\n",
      "Epoch 151/500\n",
      "15/15 [==============================] - 0s 13ms/step - loss: nan - accuracy: 0.0435\n",
      "Epoch 152/500\n",
      "15/15 [==============================] - 0s 13ms/step - loss: nan - accuracy: 0.0435\n",
      "Epoch 153/500\n",
      "15/15 [==============================] - 0s 13ms/step - loss: nan - accuracy: 0.0435\n",
      "Epoch 154/500\n",
      "15/15 [==============================] - 0s 12ms/step - loss: nan - accuracy: 0.0435\n",
      "Epoch 155/500\n",
      "15/15 [==============================] - 0s 14ms/step - loss: nan - accuracy: 0.0435\n",
      "Epoch 156/500\n",
      "15/15 [==============================] - 0s 12ms/step - loss: nan - accuracy: 0.0435\n",
      "Epoch 157/500\n",
      "15/15 [==============================] - 0s 14ms/step - loss: nan - accuracy: 0.0435\n",
      "Epoch 158/500\n",
      "15/15 [==============================] - 0s 11ms/step - loss: nan - accuracy: 0.0435\n",
      "Epoch 159/500\n",
      "15/15 [==============================] - 0s 13ms/step - loss: nan - accuracy: 0.0435\n",
      "Epoch 160/500\n",
      "15/15 [==============================] - 0s 13ms/step - loss: nan - accuracy: 0.0435\n",
      "Epoch 161/500\n",
      "15/15 [==============================] - 0s 11ms/step - loss: nan - accuracy: 0.0435\n",
      "Epoch 162/500\n",
      "15/15 [==============================] - 0s 14ms/step - loss: nan - accuracy: 0.0435\n",
      "Epoch 163/500\n",
      "15/15 [==============================] - 0s 11ms/step - loss: nan - accuracy: 0.0435\n",
      "Epoch 164/500\n",
      "15/15 [==============================] - 0s 10ms/step - loss: nan - accuracy: 0.0435\n",
      "Epoch 165/500\n",
      "15/15 [==============================] - 0s 12ms/step - loss: nan - accuracy: 0.0435\n",
      "Epoch 166/500\n",
      "15/15 [==============================] - 0s 10ms/step - loss: nan - accuracy: 0.0435\n",
      "Epoch 167/500\n"
     ]
    },
    {
     "name": "stdout",
     "output_type": "stream",
     "text": [
      "15/15 [==============================] - 0s 9ms/step - loss: nan - accuracy: 0.0435\n",
      "Epoch 168/500\n",
      "15/15 [==============================] - 0s 9ms/step - loss: nan - accuracy: 0.0435\n",
      "Epoch 169/500\n",
      "15/15 [==============================] - 0s 10ms/step - loss: nan - accuracy: 0.0435\n",
      "Epoch 170/500\n",
      "15/15 [==============================] - 0s 11ms/step - loss: nan - accuracy: 0.0435\n",
      "Epoch 171/500\n",
      "15/15 [==============================] - 0s 10ms/step - loss: nan - accuracy: 0.0435\n",
      "Epoch 172/500\n",
      "15/15 [==============================] - 0s 10ms/step - loss: nan - accuracy: 0.0435\n",
      "Epoch 173/500\n",
      "15/15 [==============================] - 0s 9ms/step - loss: nan - accuracy: 0.0435\n",
      "Epoch 174/500\n",
      "15/15 [==============================] - 0s 10ms/step - loss: nan - accuracy: 0.0435\n",
      "Epoch 175/500\n",
      "15/15 [==============================] - 0s 9ms/step - loss: nan - accuracy: 0.0435\n",
      "Epoch 176/500\n",
      "15/15 [==============================] - 0s 9ms/step - loss: nan - accuracy: 0.0435\n",
      "Epoch 177/500\n",
      "15/15 [==============================] - 0s 10ms/step - loss: nan - accuracy: 0.0435\n",
      "Epoch 178/500\n",
      "15/15 [==============================] - 0s 9ms/step - loss: nan - accuracy: 0.0435\n",
      "Epoch 179/500\n",
      "15/15 [==============================] - 0s 10ms/step - loss: nan - accuracy: 0.0435\n",
      "Epoch 180/500\n",
      "15/15 [==============================] - 0s 9ms/step - loss: nan - accuracy: 0.0435\n",
      "Epoch 181/500\n",
      "15/15 [==============================] - 0s 10ms/step - loss: nan - accuracy: 0.0435\n",
      "Epoch 182/500\n",
      "15/15 [==============================] - 0s 9ms/step - loss: nan - accuracy: 0.0435\n",
      "Epoch 183/500\n",
      "15/15 [==============================] - 0s 9ms/step - loss: nan - accuracy: 0.0435\n",
      "Epoch 184/500\n",
      "15/15 [==============================] - 0s 9ms/step - loss: nan - accuracy: 0.0435\n",
      "Epoch 185/500\n",
      "15/15 [==============================] - 0s 11ms/step - loss: nan - accuracy: 0.0435\n",
      "Epoch 186/500\n",
      "15/15 [==============================] - 0s 11ms/step - loss: nan - accuracy: 0.0435\n",
      "Epoch 187/500\n",
      "15/15 [==============================] - 0s 12ms/step - loss: nan - accuracy: 0.0435\n",
      "Epoch 188/500\n",
      "15/15 [==============================] - 0s 11ms/step - loss: nan - accuracy: 0.0435\n",
      "Epoch 189/500\n",
      "15/15 [==============================] - 0s 11ms/step - loss: nan - accuracy: 0.0435\n",
      "Epoch 190/500\n",
      "15/15 [==============================] - 0s 11ms/step - loss: nan - accuracy: 0.0435\n",
      "Epoch 191/500\n",
      "15/15 [==============================] - 0s 12ms/step - loss: nan - accuracy: 0.0435\n",
      "Epoch 192/500\n",
      "15/15 [==============================] - 0s 10ms/step - loss: nan - accuracy: 0.0435\n",
      "Epoch 193/500\n",
      "15/15 [==============================] - 0s 11ms/step - loss: nan - accuracy: 0.0435\n",
      "Epoch 194/500\n",
      "15/15 [==============================] - 0s 11ms/step - loss: nan - accuracy: 0.0435\n",
      "Epoch 195/500\n",
      "15/15 [==============================] - 0s 11ms/step - loss: nan - accuracy: 0.0435\n",
      "Epoch 196/500\n",
      "15/15 [==============================] - 0s 11ms/step - loss: nan - accuracy: 0.0435\n",
      "Epoch 197/500\n",
      "15/15 [==============================] - 0s 13ms/step - loss: nan - accuracy: 0.0435\n",
      "Epoch 198/500\n",
      "15/15 [==============================] - 0s 12ms/step - loss: nan - accuracy: 0.0435\n",
      "Epoch 199/500\n",
      "15/15 [==============================] - 0s 14ms/step - loss: nan - accuracy: 0.0435\n",
      "Epoch 200/500\n",
      "15/15 [==============================] - 0s 18ms/step - loss: nan - accuracy: 0.0435\n",
      "Epoch 201/500\n",
      "15/15 [==============================] - 0s 14ms/step - loss: nan - accuracy: 0.0435\n",
      "Epoch 202/500\n",
      "15/15 [==============================] - 0s 11ms/step - loss: nan - accuracy: 0.0435\n",
      "Epoch 203/500\n",
      "15/15 [==============================] - 0s 10ms/step - loss: nan - accuracy: 0.0435\n",
      "Epoch 204/500\n",
      "15/15 [==============================] - 0s 11ms/step - loss: nan - accuracy: 0.0435\n",
      "Epoch 205/500\n",
      "15/15 [==============================] - 0s 10ms/step - loss: nan - accuracy: 0.0435\n",
      "Epoch 206/500\n",
      "15/15 [==============================] - 0s 12ms/step - loss: nan - accuracy: 0.0435\n",
      "Epoch 207/500\n",
      "15/15 [==============================] - 0s 13ms/step - loss: nan - accuracy: 0.0435\n",
      "Epoch 208/500\n",
      "15/15 [==============================] - 0s 9ms/step - loss: nan - accuracy: 0.0435\n",
      "Epoch 209/500\n",
      "15/15 [==============================] - 0s 11ms/step - loss: nan - accuracy: 0.0435\n",
      "Epoch 210/500\n",
      "15/15 [==============================] - 0s 10ms/step - loss: nan - accuracy: 0.0435\n",
      "Epoch 211/500\n",
      "15/15 [==============================] - 0s 10ms/step - loss: nan - accuracy: 0.0435\n",
      "Epoch 212/500\n",
      "15/15 [==============================] - 0s 10ms/step - loss: nan - accuracy: 0.0435\n",
      "Epoch 213/500\n",
      "15/15 [==============================] - 0s 11ms/step - loss: nan - accuracy: 0.0435\n",
      "Epoch 214/500\n",
      "15/15 [==============================] - 0s 9ms/step - loss: nan - accuracy: 0.0435\n",
      "Epoch 215/500\n",
      "15/15 [==============================] - 0s 9ms/step - loss: nan - accuracy: 0.0435\n",
      "Epoch 216/500\n",
      "15/15 [==============================] - 0s 11ms/step - loss: nan - accuracy: 0.0435\n",
      "Epoch 217/500\n",
      "15/15 [==============================] - 0s 11ms/step - loss: nan - accuracy: 0.0435\n",
      "Epoch 218/500\n",
      "15/15 [==============================] - 0s 12ms/step - loss: nan - accuracy: 0.0435\n",
      "Epoch 219/500\n",
      "15/15 [==============================] - 0s 11ms/step - loss: nan - accuracy: 0.0435\n",
      "Epoch 220/500\n",
      "15/15 [==============================] - 0s 11ms/step - loss: nan - accuracy: 0.0435\n",
      "Epoch 221/500\n",
      "15/15 [==============================] - 0s 10ms/step - loss: nan - accuracy: 0.0435\n",
      "Epoch 222/500\n",
      "15/15 [==============================] - 0s 10ms/step - loss: nan - accuracy: 0.0435\n",
      "Epoch 223/500\n",
      "15/15 [==============================] - 0s 11ms/step - loss: nan - accuracy: 0.0435\n",
      "Epoch 224/500\n",
      "15/15 [==============================] - 0s 11ms/step - loss: nan - accuracy: 0.0435\n",
      "Epoch 225/500\n",
      "15/15 [==============================] - 0s 13ms/step - loss: nan - accuracy: 0.0435\n",
      "Epoch 226/500\n",
      "15/15 [==============================] - 0s 10ms/step - loss: nan - accuracy: 0.0435\n",
      "Epoch 227/500\n",
      "15/15 [==============================] - 0s 11ms/step - loss: nan - accuracy: 0.0435\n",
      "Epoch 228/500\n",
      "15/15 [==============================] - 0s 10ms/step - loss: nan - accuracy: 0.0435\n",
      "Epoch 229/500\n",
      "15/15 [==============================] - 0s 11ms/step - loss: nan - accuracy: 0.0435\n",
      "Epoch 230/500\n",
      "15/15 [==============================] - 0s 11ms/step - loss: nan - accuracy: 0.0435\n",
      "Epoch 231/500\n",
      "15/15 [==============================] - 0s 12ms/step - loss: nan - accuracy: 0.0435\n",
      "Epoch 232/500\n",
      "15/15 [==============================] - 0s 9ms/step - loss: nan - accuracy: 0.0435\n",
      "Epoch 233/500\n",
      "15/15 [==============================] - 0s 12ms/step - loss: nan - accuracy: 0.0435\n",
      "Epoch 234/500\n",
      "15/15 [==============================] - 0s 11ms/step - loss: nan - accuracy: 0.0435\n",
      "Epoch 235/500\n",
      "15/15 [==============================] - 0s 11ms/step - loss: nan - accuracy: 0.0435\n",
      "Epoch 236/500\n",
      "15/15 [==============================] - 0s 10ms/step - loss: nan - accuracy: 0.0435\n",
      "Epoch 237/500\n",
      "15/15 [==============================] - 0s 8ms/step - loss: nan - accuracy: 0.0435\n",
      "Epoch 238/500\n",
      "15/15 [==============================] - 0s 9ms/step - loss: nan - accuracy: 0.0435\n",
      "Epoch 239/500\n",
      "15/15 [==============================] - 0s 10ms/step - loss: nan - accuracy: 0.0435\n",
      "Epoch 240/500\n",
      "15/15 [==============================] - 0s 10ms/step - loss: nan - accuracy: 0.0435\n",
      "Epoch 241/500\n",
      "15/15 [==============================] - 0s 11ms/step - loss: nan - accuracy: 0.0435\n",
      "Epoch 242/500\n",
      "15/15 [==============================] - 0s 11ms/step - loss: nan - accuracy: 0.0435\n",
      "Epoch 243/500\n",
      "15/15 [==============================] - 0s 10ms/step - loss: nan - accuracy: 0.0435\n",
      "Epoch 244/500\n",
      "15/15 [==============================] - 0s 10ms/step - loss: nan - accuracy: 0.0435\n",
      "Epoch 245/500\n",
      "15/15 [==============================] - 0s 12ms/step - loss: nan - accuracy: 0.0435\n",
      "Epoch 246/500\n",
      "15/15 [==============================] - 0s 10ms/step - loss: nan - accuracy: 0.0435\n",
      "Epoch 247/500\n",
      "15/15 [==============================] - 0s 10ms/step - loss: nan - accuracy: 0.0435\n",
      "Epoch 248/500\n",
      "15/15 [==============================] - 0s 10ms/step - loss: nan - accuracy: 0.0435\n",
      "Epoch 249/500\n",
      "15/15 [==============================] - 0s 9ms/step - loss: nan - accuracy: 0.0435\n",
      "Epoch 250/500\n"
     ]
    },
    {
     "name": "stdout",
     "output_type": "stream",
     "text": [
      "15/15 [==============================] - 0s 12ms/step - loss: nan - accuracy: 0.0435\n",
      "Epoch 251/500\n",
      "15/15 [==============================] - 0s 10ms/step - loss: nan - accuracy: 0.0435\n",
      "Epoch 252/500\n",
      "15/15 [==============================] - 0s 9ms/step - loss: nan - accuracy: 0.0435\n",
      "Epoch 253/500\n",
      "15/15 [==============================] - 0s 10ms/step - loss: nan - accuracy: 0.0435\n",
      "Epoch 254/500\n",
      "15/15 [==============================] - 0s 10ms/step - loss: nan - accuracy: 0.0435\n",
      "Epoch 255/500\n",
      "15/15 [==============================] - 0s 10ms/step - loss: nan - accuracy: 0.0435\n",
      "Epoch 256/500\n",
      "15/15 [==============================] - 0s 10ms/step - loss: nan - accuracy: 0.0435\n",
      "Epoch 257/500\n",
      "15/15 [==============================] - 0s 9ms/step - loss: nan - accuracy: 0.0435\n",
      "Epoch 258/500\n",
      "15/15 [==============================] - 0s 9ms/step - loss: nan - accuracy: 0.0435\n",
      "Epoch 259/500\n",
      "15/15 [==============================] - 0s 10ms/step - loss: nan - accuracy: 0.0435\n",
      "Epoch 260/500\n",
      "15/15 [==============================] - 0s 12ms/step - loss: nan - accuracy: 0.0435\n",
      "Epoch 261/500\n",
      "15/15 [==============================] - 0s 11ms/step - loss: nan - accuracy: 0.0435\n",
      "Epoch 262/500\n",
      "15/15 [==============================] - 0s 10ms/step - loss: nan - accuracy: 0.0435\n",
      "Epoch 263/500\n",
      "15/15 [==============================] - 0s 10ms/step - loss: nan - accuracy: 0.0435\n",
      "Epoch 264/500\n",
      "15/15 [==============================] - 0s 9ms/step - loss: nan - accuracy: 0.0435\n",
      "Epoch 265/500\n",
      "15/15 [==============================] - 0s 9ms/step - loss: nan - accuracy: 0.0435\n",
      "Epoch 266/500\n",
      "15/15 [==============================] - 0s 8ms/step - loss: nan - accuracy: 0.0435\n",
      "Epoch 267/500\n",
      "15/15 [==============================] - 0s 7ms/step - loss: nan - accuracy: 0.0435\n",
      "Epoch 268/500\n",
      "15/15 [==============================] - 0s 8ms/step - loss: nan - accuracy: 0.0435\n",
      "Epoch 269/500\n",
      "15/15 [==============================] - 0s 9ms/step - loss: nan - accuracy: 0.0435\n",
      "Epoch 270/500\n",
      "15/15 [==============================] - 0s 8ms/step - loss: nan - accuracy: 0.0435\n",
      "Epoch 271/500\n",
      "15/15 [==============================] - 0s 8ms/step - loss: nan - accuracy: 0.0435\n",
      "Epoch 272/500\n",
      "15/15 [==============================] - 0s 9ms/step - loss: nan - accuracy: 0.0435\n",
      "Epoch 273/500\n",
      "15/15 [==============================] - 0s 11ms/step - loss: nan - accuracy: 0.0435\n",
      "Epoch 274/500\n",
      "15/15 [==============================] - 0s 11ms/step - loss: nan - accuracy: 0.0435\n",
      "Epoch 275/500\n",
      "15/15 [==============================] - 0s 9ms/step - loss: nan - accuracy: 0.0435\n",
      "Epoch 276/500\n",
      "15/15 [==============================] - 0s 8ms/step - loss: nan - accuracy: 0.0435\n",
      "Epoch 277/500\n",
      "15/15 [==============================] - 0s 7ms/step - loss: nan - accuracy: 0.0435\n",
      "Epoch 278/500\n",
      "15/15 [==============================] - 0s 9ms/step - loss: nan - accuracy: 0.0435\n",
      "Epoch 279/500\n",
      "15/15 [==============================] - 0s 8ms/step - loss: nan - accuracy: 0.0435\n",
      "Epoch 280/500\n",
      "15/15 [==============================] - 0s 9ms/step - loss: nan - accuracy: 0.0435\n",
      "Epoch 281/500\n",
      "15/15 [==============================] - 0s 9ms/step - loss: nan - accuracy: 0.0435\n",
      "Epoch 282/500\n",
      "15/15 [==============================] - 0s 7ms/step - loss: nan - accuracy: 0.0435\n",
      "Epoch 283/500\n",
      "15/15 [==============================] - 0s 10ms/step - loss: nan - accuracy: 0.0435\n",
      "Epoch 284/500\n",
      "15/15 [==============================] - 0s 8ms/step - loss: nan - accuracy: 0.0435\n",
      "Epoch 285/500\n",
      "15/15 [==============================] - 0s 10ms/step - loss: nan - accuracy: 0.0435\n",
      "Epoch 286/500\n",
      "15/15 [==============================] - 0s 8ms/step - loss: nan - accuracy: 0.0435\n",
      "Epoch 287/500\n",
      "15/15 [==============================] - 0s 8ms/step - loss: nan - accuracy: 0.0435\n",
      "Epoch 288/500\n",
      "15/15 [==============================] - 0s 8ms/step - loss: nan - accuracy: 0.0435\n",
      "Epoch 289/500\n",
      "15/15 [==============================] - 0s 8ms/step - loss: nan - accuracy: 0.0435\n",
      "Epoch 290/500\n",
      "15/15 [==============================] - 0s 10ms/step - loss: nan - accuracy: 0.0435\n",
      "Epoch 291/500\n",
      "15/15 [==============================] - 0s 10ms/step - loss: nan - accuracy: 0.0435\n",
      "Epoch 292/500\n",
      "15/15 [==============================] - 0s 10ms/step - loss: nan - accuracy: 0.0435\n",
      "Epoch 293/500\n",
      "15/15 [==============================] - 0s 9ms/step - loss: nan - accuracy: 0.0435\n",
      "Epoch 294/500\n",
      "15/15 [==============================] - 0s 11ms/step - loss: nan - accuracy: 0.0435\n",
      "Epoch 295/500\n",
      "15/15 [==============================] - 0s 10ms/step - loss: nan - accuracy: 0.0435\n",
      "Epoch 296/500\n",
      "15/15 [==============================] - 0s 9ms/step - loss: nan - accuracy: 0.0435\n",
      "Epoch 297/500\n",
      "15/15 [==============================] - 0s 7ms/step - loss: nan - accuracy: 0.0435\n",
      "Epoch 298/500\n",
      "15/15 [==============================] - 0s 7ms/step - loss: nan - accuracy: 0.0435\n",
      "Epoch 299/500\n",
      "15/15 [==============================] - 0s 8ms/step - loss: nan - accuracy: 0.0435\n",
      "Epoch 300/500\n",
      "15/15 [==============================] - 0s 9ms/step - loss: nan - accuracy: 0.0435\n",
      "Epoch 301/500\n",
      "15/15 [==============================] - 0s 8ms/step - loss: nan - accuracy: 0.0435\n",
      "Epoch 302/500\n",
      "15/15 [==============================] - 0s 8ms/step - loss: nan - accuracy: 0.0435\n",
      "Epoch 303/500\n",
      "15/15 [==============================] - 0s 7ms/step - loss: nan - accuracy: 0.0435\n",
      "Epoch 304/500\n",
      "15/15 [==============================] - 0s 7ms/step - loss: nan - accuracy: 0.0435\n",
      "Epoch 305/500\n",
      "15/15 [==============================] - 0s 7ms/step - loss: nan - accuracy: 0.0435\n",
      "Epoch 306/500\n",
      "15/15 [==============================] - 0s 7ms/step - loss: nan - accuracy: 0.0435\n",
      "Epoch 307/500\n",
      "15/15 [==============================] - 0s 10ms/step - loss: nan - accuracy: 0.0435\n",
      "Epoch 308/500\n",
      "15/15 [==============================] - 0s 9ms/step - loss: nan - accuracy: 0.0435\n",
      "Epoch 309/500\n",
      "15/15 [==============================] - 0s 10ms/step - loss: nan - accuracy: 0.0435\n",
      "Epoch 310/500\n",
      "15/15 [==============================] - 0s 10ms/step - loss: nan - accuracy: 0.0435\n",
      "Epoch 311/500\n",
      "15/15 [==============================] - 0s 10ms/step - loss: nan - accuracy: 0.0435\n",
      "Epoch 312/500\n",
      "15/15 [==============================] - 0s 11ms/step - loss: nan - accuracy: 0.0435\n",
      "Epoch 313/500\n",
      "15/15 [==============================] - 0s 12ms/step - loss: nan - accuracy: 0.0435\n",
      "Epoch 314/500\n",
      "15/15 [==============================] - 0s 11ms/step - loss: nan - accuracy: 0.0435\n",
      "Epoch 315/500\n",
      "15/15 [==============================] - 0s 10ms/step - loss: nan - accuracy: 0.0435\n",
      "Epoch 316/500\n",
      "15/15 [==============================] - 0s 10ms/step - loss: nan - accuracy: 0.0435\n",
      "Epoch 317/500\n",
      "15/15 [==============================] - 0s 9ms/step - loss: nan - accuracy: 0.0435\n",
      "Epoch 318/500\n",
      "15/15 [==============================] - 0s 9ms/step - loss: nan - accuracy: 0.0435\n",
      "Epoch 319/500\n",
      "15/15 [==============================] - 0s 8ms/step - loss: nan - accuracy: 0.0435\n",
      "Epoch 320/500\n",
      "15/15 [==============================] - 0s 7ms/step - loss: nan - accuracy: 0.0435\n",
      "Epoch 321/500\n",
      "15/15 [==============================] - 0s 8ms/step - loss: nan - accuracy: 0.0435\n",
      "Epoch 322/500\n",
      "15/15 [==============================] - 0s 10ms/step - loss: nan - accuracy: 0.0435\n",
      "Epoch 323/500\n",
      "15/15 [==============================] - 0s 10ms/step - loss: nan - accuracy: 0.0435\n",
      "Epoch 324/500\n",
      "15/15 [==============================] - 0s 9ms/step - loss: nan - accuracy: 0.0435\n",
      "Epoch 325/500\n",
      "15/15 [==============================] - 0s 10ms/step - loss: nan - accuracy: 0.0435\n",
      "Epoch 326/500\n",
      "15/15 [==============================] - 0s 7ms/step - loss: nan - accuracy: 0.0435\n",
      "Epoch 327/500\n",
      "15/15 [==============================] - 0s 9ms/step - loss: nan - accuracy: 0.0435\n",
      "Epoch 328/500\n",
      "15/15 [==============================] - 0s 7ms/step - loss: nan - accuracy: 0.0435\n",
      "Epoch 329/500\n",
      "15/15 [==============================] - 0s 9ms/step - loss: nan - accuracy: 0.0435\n",
      "Epoch 330/500\n",
      "15/15 [==============================] - 0s 10ms/step - loss: nan - accuracy: 0.0435\n",
      "Epoch 331/500\n",
      "15/15 [==============================] - 0s 10ms/step - loss: nan - accuracy: 0.0435\n",
      "Epoch 332/500\n",
      "15/15 [==============================] - 0s 9ms/step - loss: nan - accuracy: 0.0435\n",
      "Epoch 333/500\n"
     ]
    },
    {
     "name": "stdout",
     "output_type": "stream",
     "text": [
      "15/15 [==============================] - 0s 8ms/step - loss: nan - accuracy: 0.0435\n",
      "Epoch 334/500\n",
      "15/15 [==============================] - 0s 9ms/step - loss: nan - accuracy: 0.0435\n",
      "Epoch 335/500\n",
      "15/15 [==============================] - 0s 8ms/step - loss: nan - accuracy: 0.0435\n",
      "Epoch 336/500\n",
      "15/15 [==============================] - 0s 9ms/step - loss: nan - accuracy: 0.0435\n",
      "Epoch 337/500\n",
      "15/15 [==============================] - 0s 9ms/step - loss: nan - accuracy: 0.0435\n",
      "Epoch 338/500\n",
      "15/15 [==============================] - 0s 8ms/step - loss: nan - accuracy: 0.0435\n",
      "Epoch 339/500\n",
      "15/15 [==============================] - 0s 9ms/step - loss: nan - accuracy: 0.0435\n",
      "Epoch 340/500\n",
      "15/15 [==============================] - 0s 11ms/step - loss: nan - accuracy: 0.0435\n",
      "Epoch 341/500\n",
      "15/15 [==============================] - 0s 9ms/step - loss: nan - accuracy: 0.0435\n",
      "Epoch 342/500\n",
      "15/15 [==============================] - 0s 9ms/step - loss: nan - accuracy: 0.0435\n",
      "Epoch 343/500\n",
      "15/15 [==============================] - 0s 8ms/step - loss: nan - accuracy: 0.0435\n",
      "Epoch 344/500\n",
      "15/15 [==============================] - 0s 11ms/step - loss: nan - accuracy: 0.0435\n",
      "Epoch 345/500\n",
      "15/15 [==============================] - 0s 12ms/step - loss: nan - accuracy: 0.0435\n",
      "Epoch 346/500\n",
      "15/15 [==============================] - 0s 12ms/step - loss: nan - accuracy: 0.0435\n",
      "Epoch 347/500\n",
      "15/15 [==============================] - 0s 13ms/step - loss: nan - accuracy: 0.0435\n",
      "Epoch 348/500\n",
      "15/15 [==============================] - 0s 13ms/step - loss: nan - accuracy: 0.0435\n",
      "Epoch 349/500\n",
      "15/15 [==============================] - 0s 10ms/step - loss: nan - accuracy: 0.0435\n",
      "Epoch 350/500\n",
      "15/15 [==============================] - 0s 9ms/step - loss: nan - accuracy: 0.0435\n",
      "Epoch 351/500\n",
      "15/15 [==============================] - 0s 11ms/step - loss: nan - accuracy: 0.0435\n",
      "Epoch 352/500\n",
      "15/15 [==============================] - 0s 9ms/step - loss: nan - accuracy: 0.0435\n",
      "Epoch 353/500\n",
      "15/15 [==============================] - 0s 9ms/step - loss: nan - accuracy: 0.0435\n",
      "Epoch 354/500\n",
      "15/15 [==============================] - 0s 9ms/step - loss: nan - accuracy: 0.0435\n",
      "Epoch 355/500\n",
      "15/15 [==============================] - 0s 7ms/step - loss: nan - accuracy: 0.0435\n",
      "Epoch 356/500\n",
      "15/15 [==============================] - 0s 8ms/step - loss: nan - accuracy: 0.0435\n",
      "Epoch 357/500\n",
      "15/15 [==============================] - 0s 8ms/step - loss: nan - accuracy: 0.0435\n",
      "Epoch 358/500\n",
      "15/15 [==============================] - 0s 9ms/step - loss: nan - accuracy: 0.0435\n",
      "Epoch 359/500\n",
      "15/15 [==============================] - 0s 7ms/step - loss: nan - accuracy: 0.0435\n",
      "Epoch 360/500\n",
      "15/15 [==============================] - 0s 8ms/step - loss: nan - accuracy: 0.0435\n",
      "Epoch 361/500\n",
      "15/15 [==============================] - 0s 8ms/step - loss: nan - accuracy: 0.0435\n",
      "Epoch 362/500\n",
      "15/15 [==============================] - 0s 8ms/step - loss: nan - accuracy: 0.0435\n",
      "Epoch 363/500\n",
      "15/15 [==============================] - 0s 7ms/step - loss: nan - accuracy: 0.0435\n",
      "Epoch 364/500\n",
      "15/15 [==============================] - 0s 10ms/step - loss: nan - accuracy: 0.0435\n",
      "Epoch 365/500\n",
      "15/15 [==============================] - 0s 10ms/step - loss: nan - accuracy: 0.0435\n",
      "Epoch 366/500\n",
      "15/15 [==============================] - 0s 9ms/step - loss: nan - accuracy: 0.0435\n",
      "Epoch 367/500\n",
      "15/15 [==============================] - 0s 10ms/step - loss: nan - accuracy: 0.0435\n",
      "Epoch 368/500\n",
      "15/15 [==============================] - 0s 10ms/step - loss: nan - accuracy: 0.0435\n",
      "Epoch 369/500\n",
      "15/15 [==============================] - 0s 10ms/step - loss: nan - accuracy: 0.0435\n",
      "Epoch 370/500\n",
      "15/15 [==============================] - 0s 11ms/step - loss: nan - accuracy: 0.0435\n",
      "Epoch 371/500\n",
      "15/15 [==============================] - 0s 11ms/step - loss: nan - accuracy: 0.0435\n",
      "Epoch 372/500\n",
      "15/15 [==============================] - 0s 10ms/step - loss: nan - accuracy: 0.0435\n",
      "Epoch 373/500\n",
      "15/15 [==============================] - 0s 11ms/step - loss: nan - accuracy: 0.0435\n",
      "Epoch 374/500\n",
      "15/15 [==============================] - 0s 12ms/step - loss: nan - accuracy: 0.0435\n",
      "Epoch 375/500\n",
      "15/15 [==============================] - 0s 10ms/step - loss: nan - accuracy: 0.0435\n",
      "Epoch 376/500\n",
      "15/15 [==============================] - 0s 9ms/step - loss: nan - accuracy: 0.0435\n",
      "Epoch 377/500\n",
      "15/15 [==============================] - 0s 10ms/step - loss: nan - accuracy: 0.0435\n",
      "Epoch 378/500\n",
      "15/15 [==============================] - 0s 10ms/step - loss: nan - accuracy: 0.0435\n",
      "Epoch 379/500\n",
      "15/15 [==============================] - 0s 10ms/step - loss: nan - accuracy: 0.0435\n",
      "Epoch 380/500\n",
      "15/15 [==============================] - 0s 10ms/step - loss: nan - accuracy: 0.0435\n",
      "Epoch 381/500\n",
      "15/15 [==============================] - 0s 11ms/step - loss: nan - accuracy: 0.0435\n",
      "Epoch 382/500\n",
      "15/15 [==============================] - 0s 11ms/step - loss: nan - accuracy: 0.0435\n",
      "Epoch 383/500\n",
      "15/15 [==============================] - 0s 11ms/step - loss: nan - accuracy: 0.0435\n",
      "Epoch 384/500\n",
      "15/15 [==============================] - 0s 10ms/step - loss: nan - accuracy: 0.0435\n",
      "Epoch 385/500\n",
      "15/15 [==============================] - 0s 10ms/step - loss: nan - accuracy: 0.0435\n",
      "Epoch 386/500\n",
      "15/15 [==============================] - 0s 10ms/step - loss: nan - accuracy: 0.0435\n",
      "Epoch 387/500\n",
      "15/15 [==============================] - 0s 10ms/step - loss: nan - accuracy: 0.0435\n",
      "Epoch 388/500\n",
      "15/15 [==============================] - 0s 11ms/step - loss: nan - accuracy: 0.0435\n",
      "Epoch 389/500\n",
      "15/15 [==============================] - 0s 9ms/step - loss: nan - accuracy: 0.0435\n",
      "Epoch 390/500\n",
      "15/15 [==============================] - 0s 14ms/step - loss: nan - accuracy: 0.0435\n",
      "Epoch 391/500\n",
      "15/15 [==============================] - 0s 12ms/step - loss: nan - accuracy: 0.0435\n",
      "Epoch 392/500\n",
      "15/15 [==============================] - 0s 13ms/step - loss: nan - accuracy: 0.0435\n",
      "Epoch 393/500\n",
      "15/15 [==============================] - 0s 13ms/step - loss: nan - accuracy: 0.0435\n",
      "Epoch 394/500\n",
      "15/15 [==============================] - 0s 13ms/step - loss: nan - accuracy: 0.0435\n",
      "Epoch 395/500\n",
      "15/15 [==============================] - 0s 10ms/step - loss: nan - accuracy: 0.0435\n",
      "Epoch 396/500\n",
      "15/15 [==============================] - 0s 10ms/step - loss: nan - accuracy: 0.0435\n",
      "Epoch 397/500\n",
      "15/15 [==============================] - 0s 9ms/step - loss: nan - accuracy: 0.0435\n",
      "Epoch 398/500\n",
      "15/15 [==============================] - 0s 10ms/step - loss: nan - accuracy: 0.0435\n",
      "Epoch 399/500\n",
      "15/15 [==============================] - 0s 9ms/step - loss: nan - accuracy: 0.0435\n",
      "Epoch 400/500\n",
      "15/15 [==============================] - 0s 10ms/step - loss: nan - accuracy: 0.0435\n",
      "Epoch 401/500\n",
      "15/15 [==============================] - 0s 10ms/step - loss: nan - accuracy: 0.0435\n",
      "Epoch 402/500\n",
      "15/15 [==============================] - 0s 10ms/step - loss: nan - accuracy: 0.0435\n",
      "Epoch 403/500\n",
      "15/15 [==============================] - 0s 9ms/step - loss: nan - accuracy: 0.0435\n",
      "Epoch 404/500\n",
      "15/15 [==============================] - 0s 14ms/step - loss: nan - accuracy: 0.0435\n",
      "Epoch 405/500\n",
      "15/15 [==============================] - 0s 9ms/step - loss: nan - accuracy: 0.0435\n",
      "Epoch 406/500\n",
      "15/15 [==============================] - 0s 8ms/step - loss: nan - accuracy: 0.0435\n",
      "Epoch 407/500\n",
      "15/15 [==============================] - 0s 8ms/step - loss: nan - accuracy: 0.0435\n",
      "Epoch 408/500\n",
      "15/15 [==============================] - 0s 11ms/step - loss: nan - accuracy: 0.0435\n",
      "Epoch 409/500\n",
      "15/15 [==============================] - 0s 9ms/step - loss: nan - accuracy: 0.0435\n",
      "Epoch 410/500\n",
      "15/15 [==============================] - 0s 9ms/step - loss: nan - accuracy: 0.0435\n",
      "Epoch 411/500\n",
      "15/15 [==============================] - 0s 9ms/step - loss: nan - accuracy: 0.0435\n",
      "Epoch 412/500\n",
      "15/15 [==============================] - 0s 10ms/step - loss: nan - accuracy: 0.0435\n",
      "Epoch 413/500\n",
      "15/15 [==============================] - 0s 9ms/step - loss: nan - accuracy: 0.0435\n",
      "Epoch 414/500\n",
      "15/15 [==============================] - 0s 9ms/step - loss: nan - accuracy: 0.0435\n",
      "Epoch 415/500\n",
      "15/15 [==============================] - 0s 8ms/step - loss: nan - accuracy: 0.0435\n",
      "Epoch 416/500\n"
     ]
    },
    {
     "name": "stdout",
     "output_type": "stream",
     "text": [
      "15/15 [==============================] - 0s 9ms/step - loss: nan - accuracy: 0.0435\n",
      "Epoch 417/500\n",
      "15/15 [==============================] - 0s 9ms/step - loss: nan - accuracy: 0.0435\n",
      "Epoch 418/500\n",
      "15/15 [==============================] - 0s 9ms/step - loss: nan - accuracy: 0.0435\n",
      "Epoch 419/500\n",
      "15/15 [==============================] - 0s 9ms/step - loss: nan - accuracy: 0.0435\n",
      "Epoch 420/500\n",
      "15/15 [==============================] - 0s 9ms/step - loss: nan - accuracy: 0.0435\n",
      "Epoch 421/500\n",
      "15/15 [==============================] - 0s 10ms/step - loss: nan - accuracy: 0.0435\n",
      "Epoch 422/500\n",
      "15/15 [==============================] - 0s 10ms/step - loss: nan - accuracy: 0.0435\n",
      "Epoch 423/500\n",
      "15/15 [==============================] - 0s 10ms/step - loss: nan - accuracy: 0.0435\n",
      "Epoch 424/500\n",
      "15/15 [==============================] - 0s 10ms/step - loss: nan - accuracy: 0.0435\n",
      "Epoch 425/500\n",
      "15/15 [==============================] - 0s 10ms/step - loss: nan - accuracy: 0.0435\n",
      "Epoch 426/500\n",
      "15/15 [==============================] - 0s 10ms/step - loss: nan - accuracy: 0.0435\n",
      "Epoch 427/500\n",
      "15/15 [==============================] - 0s 9ms/step - loss: nan - accuracy: 0.0435\n",
      "Epoch 428/500\n",
      "15/15 [==============================] - 0s 9ms/step - loss: nan - accuracy: 0.0435\n",
      "Epoch 429/500\n",
      "15/15 [==============================] - 0s 9ms/step - loss: nan - accuracy: 0.0435\n",
      "Epoch 430/500\n",
      "15/15 [==============================] - 0s 9ms/step - loss: nan - accuracy: 0.0435\n",
      "Epoch 431/500\n",
      "15/15 [==============================] - 0s 9ms/step - loss: nan - accuracy: 0.0435\n",
      "Epoch 432/500\n",
      "15/15 [==============================] - 0s 10ms/step - loss: nan - accuracy: 0.0435\n",
      "Epoch 433/500\n",
      "15/15 [==============================] - 0s 9ms/step - loss: nan - accuracy: 0.0435\n",
      "Epoch 434/500\n",
      "15/15 [==============================] - 0s 9ms/step - loss: nan - accuracy: 0.0435\n",
      "Epoch 435/500\n",
      "15/15 [==============================] - 0s 10ms/step - loss: nan - accuracy: 0.0435\n",
      "Epoch 436/500\n",
      "15/15 [==============================] - 0s 9ms/step - loss: nan - accuracy: 0.0435\n",
      "Epoch 437/500\n",
      "15/15 [==============================] - 0s 9ms/step - loss: nan - accuracy: 0.0435\n",
      "Epoch 438/500\n",
      "15/15 [==============================] - 0s 9ms/step - loss: nan - accuracy: 0.0435\n",
      "Epoch 439/500\n",
      "15/15 [==============================] - 0s 9ms/step - loss: nan - accuracy: 0.0435\n",
      "Epoch 440/500\n",
      "15/15 [==============================] - 0s 8ms/step - loss: nan - accuracy: 0.0435\n",
      "Epoch 441/500\n",
      "15/15 [==============================] - 0s 8ms/step - loss: nan - accuracy: 0.0435\n",
      "Epoch 442/500\n",
      "15/15 [==============================] - 0s 7ms/step - loss: nan - accuracy: 0.0435\n",
      "Epoch 443/500\n",
      "15/15 [==============================] - 0s 9ms/step - loss: nan - accuracy: 0.0435\n",
      "Epoch 444/500\n",
      "15/15 [==============================] - 0s 7ms/step - loss: nan - accuracy: 0.0435\n",
      "Epoch 445/500\n",
      "15/15 [==============================] - 0s 9ms/step - loss: nan - accuracy: 0.0435\n",
      "Epoch 446/500\n",
      "15/15 [==============================] - 0s 7ms/step - loss: nan - accuracy: 0.0435\n",
      "Epoch 447/500\n",
      "15/15 [==============================] - 0s 8ms/step - loss: nan - accuracy: 0.0435\n",
      "Epoch 448/500\n",
      "15/15 [==============================] - 0s 7ms/step - loss: nan - accuracy: 0.0435\n",
      "Epoch 449/500\n",
      "15/15 [==============================] - 0s 8ms/step - loss: nan - accuracy: 0.0435\n",
      "Epoch 450/500\n",
      "15/15 [==============================] - 0s 7ms/step - loss: nan - accuracy: 0.0435\n",
      "Epoch 451/500\n",
      "15/15 [==============================] - 0s 8ms/step - loss: nan - accuracy: 0.0435\n",
      "Epoch 452/500\n",
      "15/15 [==============================] - 0s 8ms/step - loss: nan - accuracy: 0.0435\n",
      "Epoch 453/500\n",
      "15/15 [==============================] - 0s 7ms/step - loss: nan - accuracy: 0.0435\n",
      "Epoch 454/500\n",
      "15/15 [==============================] - 0s 9ms/step - loss: nan - accuracy: 0.0435\n",
      "Epoch 455/500\n",
      "15/15 [==============================] - 0s 9ms/step - loss: nan - accuracy: 0.0435\n",
      "Epoch 456/500\n",
      "15/15 [==============================] - 0s 7ms/step - loss: nan - accuracy: 0.0435\n",
      "Epoch 457/500\n",
      "15/15 [==============================] - 0s 9ms/step - loss: nan - accuracy: 0.0435\n",
      "Epoch 458/500\n",
      "15/15 [==============================] - 0s 7ms/step - loss: nan - accuracy: 0.0435\n",
      "Epoch 459/500\n",
      "15/15 [==============================] - 0s 9ms/step - loss: nan - accuracy: 0.0435\n",
      "Epoch 460/500\n",
      "15/15 [==============================] - 0s 8ms/step - loss: nan - accuracy: 0.0435\n",
      "Epoch 461/500\n",
      "15/15 [==============================] - 0s 8ms/step - loss: nan - accuracy: 0.0435\n",
      "Epoch 462/500\n",
      "15/15 [==============================] - 0s 9ms/step - loss: nan - accuracy: 0.0435\n",
      "Epoch 463/500\n",
      "15/15 [==============================] - 0s 8ms/step - loss: nan - accuracy: 0.0435\n",
      "Epoch 464/500\n",
      "15/15 [==============================] - 0s 7ms/step - loss: nan - accuracy: 0.0435\n",
      "Epoch 465/500\n",
      "15/15 [==============================] - 0s 8ms/step - loss: nan - accuracy: 0.0435\n",
      "Epoch 466/500\n",
      "15/15 [==============================] - 0s 9ms/step - loss: nan - accuracy: 0.0435\n",
      "Epoch 467/500\n",
      "15/15 [==============================] - 0s 8ms/step - loss: nan - accuracy: 0.0435\n",
      "Epoch 468/500\n",
      "15/15 [==============================] - 0s 9ms/step - loss: nan - accuracy: 0.0435\n",
      "Epoch 469/500\n",
      "15/15 [==============================] - 0s 8ms/step - loss: nan - accuracy: 0.0435\n",
      "Epoch 470/500\n",
      "15/15 [==============================] - 0s 8ms/step - loss: nan - accuracy: 0.0435\n",
      "Epoch 471/500\n",
      "15/15 [==============================] - 0s 7ms/step - loss: nan - accuracy: 0.0435\n",
      "Epoch 472/500\n",
      "15/15 [==============================] - 0s 7ms/step - loss: nan - accuracy: 0.0435\n",
      "Epoch 473/500\n",
      "15/15 [==============================] - 0s 8ms/step - loss: nan - accuracy: 0.0435\n",
      "Epoch 474/500\n",
      "15/15 [==============================] - 0s 8ms/step - loss: nan - accuracy: 0.0435\n",
      "Epoch 475/500\n",
      "15/15 [==============================] - 0s 7ms/step - loss: nan - accuracy: 0.0435\n",
      "Epoch 476/500\n",
      "15/15 [==============================] - 0s 6ms/step - loss: nan - accuracy: 0.0435\n",
      "Epoch 477/500\n",
      "15/15 [==============================] - 0s 7ms/step - loss: nan - accuracy: 0.0435\n",
      "Epoch 478/500\n",
      "15/15 [==============================] - 0s 7ms/step - loss: nan - accuracy: 0.0435\n",
      "Epoch 479/500\n",
      "15/15 [==============================] - 0s 9ms/step - loss: nan - accuracy: 0.0435\n",
      "Epoch 480/500\n",
      "15/15 [==============================] - 0s 8ms/step - loss: nan - accuracy: 0.0435\n",
      "Epoch 481/500\n",
      "15/15 [==============================] - 0s 6ms/step - loss: nan - accuracy: 0.0435\n",
      "Epoch 482/500\n",
      "15/15 [==============================] - 0s 8ms/step - loss: nan - accuracy: 0.0435\n",
      "Epoch 483/500\n",
      "15/15 [==============================] - 0s 7ms/step - loss: nan - accuracy: 0.0435\n",
      "Epoch 484/500\n",
      "15/15 [==============================] - 0s 8ms/step - loss: nan - accuracy: 0.0435\n",
      "Epoch 485/500\n",
      "15/15 [==============================] - 0s 9ms/step - loss: nan - accuracy: 0.0435\n",
      "Epoch 486/500\n",
      "15/15 [==============================] - 0s 7ms/step - loss: nan - accuracy: 0.0435\n",
      "Epoch 487/500\n",
      "15/15 [==============================] - 0s 9ms/step - loss: nan - accuracy: 0.0435\n",
      "Epoch 488/500\n",
      "15/15 [==============================] - 0s 9ms/step - loss: nan - accuracy: 0.0435\n",
      "Epoch 489/500\n",
      "15/15 [==============================] - 0s 8ms/step - loss: nan - accuracy: 0.0435\n",
      "Epoch 490/500\n",
      "15/15 [==============================] - 0s 8ms/step - loss: nan - accuracy: 0.0435\n",
      "Epoch 491/500\n",
      "15/15 [==============================] - 0s 7ms/step - loss: nan - accuracy: 0.0435\n",
      "Epoch 492/500\n",
      "15/15 [==============================] - 0s 7ms/step - loss: nan - accuracy: 0.0435\n",
      "Epoch 493/500\n",
      "15/15 [==============================] - 0s 7ms/step - loss: nan - accuracy: 0.0435\n",
      "Epoch 494/500\n",
      "15/15 [==============================] - 0s 7ms/step - loss: nan - accuracy: 0.0435\n",
      "Epoch 495/500\n",
      "15/15 [==============================] - 0s 9ms/step - loss: nan - accuracy: 0.0435\n",
      "Epoch 496/500\n",
      "15/15 [==============================] - 0s 8ms/step - loss: nan - accuracy: 0.0435\n",
      "Epoch 497/500\n",
      "15/15 [==============================] - 0s 7ms/step - loss: nan - accuracy: 0.0435\n",
      "Epoch 498/500\n",
      "15/15 [==============================] - 0s 8ms/step - loss: nan - accuracy: 0.0435\n",
      "Epoch 499/500\n"
     ]
    },
    {
     "name": "stdout",
     "output_type": "stream",
     "text": [
      "15/15 [==============================] - 0s 7ms/step - loss: nan - accuracy: 0.0435\n",
      "Epoch 500/500\n",
      "15/15 [==============================] - 0s 7ms/step - loss: nan - accuracy: 0.0435\n"
     ]
    },
    {
     "data": {
      "text/plain": [
       "<keras.callbacks.History at 0x2d1730c5fa0>"
      ]
     },
     "execution_count": 45,
     "metadata": {},
     "output_type": "execute_result"
    }
   ],
   "source": [
    "model.fit(x_train,y_train,batch_size=128,epochs=5ow to )"
   ]
  },
  {
   "cell_type": "code",
   "execution_count": 46,
   "metadata": {},
   "outputs": [
    {
     "name": "stdout",
     "output_type": "stream",
     "text": [
      "4/4 [==============================] - 0s 7ms/step - loss: nan - accuracy: 0.0435\n"
     ]
    },
    {
     "data": {
      "text/plain": [
       "[nan, 0.043478261679410934]"
      ]
     },
     "execution_count": 46,
     "metadata": {},
     "output_type": "execute_result"
    }
   ],
   "source": [
    "KC_score = model.evaluate(x_test,y_test, batch_size=128)\n",
    "KC_score"
   ]
  },
  {
   "cell_type": "code",
   "execution_count": 47,
   "metadata": {},
   "outputs": [
    {
     "data": {
      "text/plain": [
       "['loss', 'accuracy']"
      ]
     },
     "execution_count": 47,
     "metadata": {},
     "output_type": "execute_result"
    }
   ],
   "source": [
    "model.metrics_names"
   ]
  },
  {
   "cell_type": "code",
   "execution_count": 48,
   "metadata": {},
   "outputs": [
    {
     "data": {
      "text/plain": [
       "0.043478261679410934"
      ]
     },
     "execution_count": 48,
     "metadata": {},
     "output_type": "execute_result"
    }
   ],
   "source": [
    "accuracy_KC = KC_score[1]\n",
    "accuracy_KC"
   ]
  },
  {
   "cell_type": "code",
   "execution_count": 49,
   "metadata": {},
   "outputs": [],
   "source": [
    "import pickle\n",
    "# Dump the trained Naive Bayes classifier with Pickle\n",
    "KC_pkl_filename = 'KerasClassifier.pkl'\n",
    "\n",
    "# Open the file to save as pkl file\n",
    "KC_Model_pkl = open(KC_pkl_filename, 'wb')\n",
    "pickle.dump(model, KC_Model_pkl)\n",
    "\n",
    "# Close the pickle instances\n",
    "KC_Model_pkl.close()"
   ]
  },
  {
   "cell_type": "markdown",
   "metadata": {},
   "source": [
    "## Model Comparison\n",
    "***\n",
    "This is where we append the accuracy score of all the models we built into the empty list we created earlier.\n",
    "***\n"
   ]
  },
  {
   "cell_type": "code",
   "execution_count": 50,
   "metadata": {},
   "outputs": [],
   "source": [
    "acc.append(accuracy_RFC)\n",
    "model1.append('Random Forest')\n",
    "\n",
    "acc.append(accuracy_DTC)\n",
    "model1.append('Decision Tree')\n",
    "\n",
    "acc.append(accuracy_GBC)\n",
    "model1.append('Gradient Boost')\n",
    "\n",
    "acc.append(accuracy_KC)\n",
    "model1.append('Keras Classifier')"
   ]
  },
  {
   "cell_type": "markdown",
   "metadata": {},
   "source": [
    "***\n",
    "We want to plot a boxplot of all the models according to their accuracy score using the seaborn and matplotlib libraries.\n",
    "***"
   ]
  },
  {
   "cell_type": "code",
   "execution_count": 51,
   "metadata": {},
   "outputs": [
    {
     "data": {
      "text/plain": [
       "<AxesSubplot:title={'center':'Accuracy Comparison'}, xlabel='Algorithm', ylabel='Accuracy'>"
      ]
     },
     "execution_count": 51,
     "metadata": {},
     "output_type": "execute_result"
    },
    {
     "data": {
      "image/png": "[encoded data removed]",
      "text/plain": [
       "<Figure size 1000x500 with 1 Axes>"
      ]
     },
     "metadata": {},
     "output_type": "display_data"
    }
   ],
   "source": [
    "plt.figure(figsize=[10,5],dpi = 100)\n",
    "plt.title('Accuracy Comparison')\n",
    "plt.ylabel('Accuracy')\n",
    "plt.xlabel('Algorithm')\n",
    "sns.boxplot(y = acc,x = model1,palette='dark')"
   ]
  },
  {
   "cell_type": "markdown",
   "metadata": {},
   "source": [
    "***\n",
    "<b><font color=\"blue\">Observation: </font></b> From the plot above we see that the Gradient Boost model gave the best accuracy score followed by the Random Forest model and then the Decision Tree. The Keras Classifier gave the least accuracy score of 94%\n",
    "***"
   ]
  },
  {
   "cell_type": "markdown",
   "metadata": {},
   "source": [
    "## Making Prediction"
   ]
  },
  {
   "cell_type": "code",
   "execution_count": 72,
   "metadata": {},
   "outputs": [
    {
     "name": "stdout",
     "output_type": "stream",
     "text": [
      "['cashew']\n"
     ]
    }
   ],
   "source": [
    "data = np.array([[14,18, 70, 23.603016, 60.3, 6.7, 140.91]])\n",
    "prediction = GBC.predict(data)\n",
    "print(prediction)"
   ]
  },
  {
   "cell_type": "code",
   "execution_count": null,
   "metadata": {},
   "outputs": [],
   "source": []
  }
 ],
 "metadata": {
  "kernelspec": {
   "display_name": "Python 3 (ipykernel)",
   "language": "python",
   "name": "python3"
  },
  "language_info": {
   "codemirror_mode": {
    "name": "ipython",
    "version": 3
   },
   "file_extension": ".py",
   "mimetype": "text/x-python",
   "name": "python",
   "nbconvert_exporter": "python",
   "pygments_lexer": "ipython3",
   "version": "3.9.13"
  }
 },
 "nbformat": 4,
 "nbformat_minor": 2
}
